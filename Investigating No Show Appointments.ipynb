{
 "cells": [
  {
   "cell_type": "markdown",
   "metadata": {},
   "source": [
    "# Project: Investigating No Show Appointments\n",
    "## By: Isaac Aboagye Ampem\n",
    "\n",
    "## Table of Contents\n",
    "<ul>\n",
    "<li><a href=\"#intro\">Introduction</a></li>\n",
    "<li><a href=\"#wrangling\">Data Wrangling</a></li>\n",
    "<li><a href=\"#eda\">Exploratory Data Analysis</a></li>\n",
    "<li><a href=\"#conclusions\">Conclusions</a></li>\n",
    "</ul>"
   ]
  },
  {
   "cell_type": "markdown",
   "metadata": {},
   "source": [
    "<a id='intro'></a>\n",
    "## Introduction\n",
    "\n",
    "> This report seeks to analyze a dataset  on over 100,000 medical appointment information from Brazil which pivots on whether or not the patients honoured their appointments or not. \n",
    "\n",
    "> In the dataset, the column names 'ScheduledDay' tells when appointment was scheduled to take place, 'AppointmentDay' refers to the actual day the patient met the Doctor, 'Neighborhood' refers to the Hospital's location and 'Scholarship' indicates if a patient has or doesn't have a scholarship. The 'No-show' column indicates 'No - meaning patient honoured the appointment' and 'Yes - meaning patient didn't honour the appointment'. Sms_received indicates a '0' for patients not contact via sms to remind them of theri appointmet and '1'\n",
    " represents otherwise\n",
    "\n",
    "\n",
    "<a id=\"bq1\"></a>\n",
    "\n",
    " \n",
    "### The Report Seeks to Answer These Questions; (Click on Question to go to solution in notebook)\n",
    "<ul>\n",
    "<li><a href=\"#q1\">1. What is the Distribution of Appointments by Attendance?</a></li>\n",
    "<li><a href=\"#q2\">2. What is the Appointment Distribution per Hospital?</a></li>\n",
    "<li><a href=\"#q3\">3. What is the Attended Appointment Distribution by Hospital?</a></li>\n",
    "<li><a href=\"#q4\">4. What is the Proportion of Attended and Not Attended Appointments for Hospital with Highest Appointments?</a></li>\n",
    "<li><a href=\"#q5\">5. Which Patient Has the Highest Appointments?</a></li>\n",
    "<li><a href=\"#q6\">6. What is the Age Distribution of Patients?</a></li>\n",
    "<li><a href=\"#q7\">7. What is the Distribution of Appointment Attendance by Demographics?</a></li>\n",
    "<li><a href=\"#q8\">8. What is the Distribution of Appointments by Gender?</a></li>\n",
    "<li><a href=\"#q9\">9. Which Gender Attended Appointments the Most?</a></li>\n",
    "<li><a href=\"#q10\">10. What is the Distribution of Patients by Welfare Enrolment Status?</a></li>\n",
    "<li><a href=\"#q11\">11. Does Being on the Welfare Programme Have a Positive Impact on Attended Appointment?</a></li>\n",
    "<li><a href=\"#q12\">12. What is the Appointment Distribution by Health Issue / Condition of Patients?</a></li>\n",
    "<li><a href=\"#q13\">13. How Does Sending SMS Reminders Impact Attendance?</a></li>\n",
    "<li><a href=\"#q14\">14.What is the Average Delay in Attending Scheduled Appointment in Days?</a></li>\n",
    "<li><a href=\"#q15\">15. What is the Change in Appointment Attendance from 2015 to 2016?</a></li>\n",
    "</ul>"
   ]
  },
  {
   "cell_type": "markdown",
   "metadata": {},
   "source": [
    "### Importing Required Libraries"
   ]
  },
  {
   "cell_type": "code",
   "execution_count": 1,
   "metadata": {},
   "outputs": [],
   "source": [
    "# import required libraries\n",
    "import numpy as np\n",
    "import pandas as pd\n",
    "import matplotlib.pyplot as plt\n",
    "import seaborn as sns\n",
    "%matplotlib inline\n",
    "from matplotlib import style"
   ]
  },
  {
   "cell_type": "markdown",
   "metadata": {},
   "source": [
    " "
   ]
  },
  {
   "cell_type": "markdown",
   "metadata": {},
   "source": [
    " "
   ]
  },
  {
   "cell_type": "markdown",
   "metadata": {},
   "source": [
    "<a id='wrangling'></a>\n",
    "## Data Wrangling\n",
    "\n",
    "\n",
    "### Phase-1: Loading and Reviewing General Properties of the Dataset"
   ]
  },
  {
   "cell_type": "markdown",
   "metadata": {},
   "source": [
    "#### Loading and view dataset"
   ]
  },
  {
   "cell_type": "code",
   "execution_count": 2,
   "metadata": {
    "scrolled": true
   },
   "outputs": [
    {
     "data": {
      "text/html": [
       "<div>\n",
       "<style scoped>\n",
       "    .dataframe tbody tr th:only-of-type {\n",
       "        vertical-align: middle;\n",
       "    }\n",
       "\n",
       "    .dataframe tbody tr th {\n",
       "        vertical-align: top;\n",
       "    }\n",
       "\n",
       "    .dataframe thead th {\n",
       "        text-align: right;\n",
       "    }\n",
       "</style>\n",
       "<table border=\"1\" class=\"dataframe\">\n",
       "  <thead>\n",
       "    <tr style=\"text-align: right;\">\n",
       "      <th></th>\n",
       "      <th>PatientId</th>\n",
       "      <th>AppointmentID</th>\n",
       "      <th>Gender</th>\n",
       "      <th>ScheduledDay</th>\n",
       "      <th>AppointmentDay</th>\n",
       "      <th>Age</th>\n",
       "      <th>Neighbourhood</th>\n",
       "      <th>Scholarship</th>\n",
       "      <th>Hipertension</th>\n",
       "      <th>Diabetes</th>\n",
       "      <th>Alcoholism</th>\n",
       "      <th>Handcap</th>\n",
       "      <th>SMS_received</th>\n",
       "      <th>No-show</th>\n",
       "    </tr>\n",
       "  </thead>\n",
       "  <tbody>\n",
       "    <tr>\n",
       "      <th>0</th>\n",
       "      <td>2.987250e+13</td>\n",
       "      <td>5642903</td>\n",
       "      <td>F</td>\n",
       "      <td>2016-04-29T18:38:08Z</td>\n",
       "      <td>2016-04-29T00:00:00Z</td>\n",
       "      <td>62</td>\n",
       "      <td>JARDIM DA PENHA</td>\n",
       "      <td>0</td>\n",
       "      <td>1</td>\n",
       "      <td>0</td>\n",
       "      <td>0</td>\n",
       "      <td>0</td>\n",
       "      <td>0</td>\n",
       "      <td>No</td>\n",
       "    </tr>\n",
       "    <tr>\n",
       "      <th>1</th>\n",
       "      <td>5.589978e+14</td>\n",
       "      <td>5642503</td>\n",
       "      <td>M</td>\n",
       "      <td>2016-04-29T16:08:27Z</td>\n",
       "      <td>2016-04-29T00:00:00Z</td>\n",
       "      <td>56</td>\n",
       "      <td>JARDIM DA PENHA</td>\n",
       "      <td>0</td>\n",
       "      <td>0</td>\n",
       "      <td>0</td>\n",
       "      <td>0</td>\n",
       "      <td>0</td>\n",
       "      <td>0</td>\n",
       "      <td>No</td>\n",
       "    </tr>\n",
       "    <tr>\n",
       "      <th>2</th>\n",
       "      <td>4.262962e+12</td>\n",
       "      <td>5642549</td>\n",
       "      <td>F</td>\n",
       "      <td>2016-04-29T16:19:04Z</td>\n",
       "      <td>2016-04-29T00:00:00Z</td>\n",
       "      <td>62</td>\n",
       "      <td>MATA DA PRAIA</td>\n",
       "      <td>0</td>\n",
       "      <td>0</td>\n",
       "      <td>0</td>\n",
       "      <td>0</td>\n",
       "      <td>0</td>\n",
       "      <td>0</td>\n",
       "      <td>No</td>\n",
       "    </tr>\n",
       "    <tr>\n",
       "      <th>3</th>\n",
       "      <td>8.679512e+11</td>\n",
       "      <td>5642828</td>\n",
       "      <td>F</td>\n",
       "      <td>2016-04-29T17:29:31Z</td>\n",
       "      <td>2016-04-29T00:00:00Z</td>\n",
       "      <td>8</td>\n",
       "      <td>PONTAL DE CAMBURI</td>\n",
       "      <td>0</td>\n",
       "      <td>0</td>\n",
       "      <td>0</td>\n",
       "      <td>0</td>\n",
       "      <td>0</td>\n",
       "      <td>0</td>\n",
       "      <td>No</td>\n",
       "    </tr>\n",
       "    <tr>\n",
       "      <th>4</th>\n",
       "      <td>8.841186e+12</td>\n",
       "      <td>5642494</td>\n",
       "      <td>F</td>\n",
       "      <td>2016-04-29T16:07:23Z</td>\n",
       "      <td>2016-04-29T00:00:00Z</td>\n",
       "      <td>56</td>\n",
       "      <td>JARDIM DA PENHA</td>\n",
       "      <td>0</td>\n",
       "      <td>1</td>\n",
       "      <td>1</td>\n",
       "      <td>0</td>\n",
       "      <td>0</td>\n",
       "      <td>0</td>\n",
       "      <td>No</td>\n",
       "    </tr>\n",
       "  </tbody>\n",
       "</table>\n",
       "</div>"
      ],
      "text/plain": [
       "      PatientId  AppointmentID Gender          ScheduledDay  \\\n",
       "0  2.987250e+13        5642903      F  2016-04-29T18:38:08Z   \n",
       "1  5.589978e+14        5642503      M  2016-04-29T16:08:27Z   \n",
       "2  4.262962e+12        5642549      F  2016-04-29T16:19:04Z   \n",
       "3  8.679512e+11        5642828      F  2016-04-29T17:29:31Z   \n",
       "4  8.841186e+12        5642494      F  2016-04-29T16:07:23Z   \n",
       "\n",
       "         AppointmentDay  Age      Neighbourhood  Scholarship  Hipertension  \\\n",
       "0  2016-04-29T00:00:00Z   62    JARDIM DA PENHA            0             1   \n",
       "1  2016-04-29T00:00:00Z   56    JARDIM DA PENHA            0             0   \n",
       "2  2016-04-29T00:00:00Z   62      MATA DA PRAIA            0             0   \n",
       "3  2016-04-29T00:00:00Z    8  PONTAL DE CAMBURI            0             0   \n",
       "4  2016-04-29T00:00:00Z   56    JARDIM DA PENHA            0             1   \n",
       "\n",
       "   Diabetes  Alcoholism  Handcap  SMS_received No-show  \n",
       "0         0           0        0             0      No  \n",
       "1         0           0        0             0      No  \n",
       "2         0           0        0             0      No  \n",
       "3         0           0        0             0      No  \n",
       "4         1           0        0             0      No  "
      ]
     },
     "execution_count": 2,
     "metadata": {},
     "output_type": "execute_result"
    }
   ],
   "source": [
    "# load dataset\n",
    "appointment_data = pd.read_csv('patient_appointment_data.csv')\n",
    "\n",
    "# view first five(5) entries of dataset\n",
    "appointment_data.head()"
   ]
  },
  {
   "cell_type": "markdown",
   "metadata": {},
   "source": [
    "Comments: Loading and Viewing dataset\n",
    "\n",
    "    The above code displays the first 5 entries of the data to help know how the data is structered. It can be seen that:\n",
    "    \n",
    "        1. two date columns (ScheduledDay and AppointmentDay) are mixed with the letter T and Z. These need to be taken out.\n",
    "        \n",
    "        3. column names are not consistent. This also need to be corrected"
   ]
  },
  {
   "cell_type": "markdown",
   "metadata": {},
   "source": [
    "#### Viewing Dataset Properties"
   ]
  },
  {
   "cell_type": "code",
   "execution_count": 3,
   "metadata": {
    "scrolled": false
   },
   "outputs": [
    {
     "name": "stdout",
     "output_type": "stream",
     "text": [
      "<class 'pandas.core.frame.DataFrame'>\n",
      "RangeIndex: 110527 entries, 0 to 110526\n",
      "Data columns (total 14 columns):\n",
      " #   Column          Non-Null Count   Dtype  \n",
      "---  ------          --------------   -----  \n",
      " 0   PatientId       110527 non-null  float64\n",
      " 1   AppointmentID   110527 non-null  int64  \n",
      " 2   Gender          110527 non-null  object \n",
      " 3   ScheduledDay    110527 non-null  object \n",
      " 4   AppointmentDay  110527 non-null  object \n",
      " 5   Age             110527 non-null  int64  \n",
      " 6   Neighbourhood   110527 non-null  object \n",
      " 7   Scholarship     110527 non-null  int64  \n",
      " 8   Hipertension    110527 non-null  int64  \n",
      " 9   Diabetes        110527 non-null  int64  \n",
      " 10  Alcoholism      110527 non-null  int64  \n",
      " 11  Handcap         110527 non-null  int64  \n",
      " 12  SMS_received    110527 non-null  int64  \n",
      " 13  No-show         110527 non-null  object \n",
      "dtypes: float64(1), int64(8), object(5)\n",
      "memory usage: 11.8+ MB\n"
     ]
    }
   ],
   "source": [
    "# view general information about dataset\n",
    "appointment_data.info()"
   ]
  },
  {
   "cell_type": "markdown",
   "metadata": {},
   "source": [
    "Comements:\n",
    "\n",
    "    1. The code above examines for general information about the dataset e.g. number of rows and columns, column names, the\n",
    "       datatypes (Dtype) in the columns and if there are missing values or not. \n",
    "    \n",
    "    2. It could be seen that this dataset has 110527 rows and 14 columns, no missing entries in any of the columns and has \n",
    "       1 column having float data type (i.e. decimals), 8 columns with int64 datatype (i.e. integers) and 5 columns have \n",
    "       object data type (i.e. string)\n",
    "    \n",
    "    3. Also, columns like 'PatientId', 'ScheduledDay', and 'AppointmentDay' have wrong data types and needs to be changed to\n",
    "       integer, datetime and datetime respectively."
   ]
  },
  {
   "cell_type": "code",
   "execution_count": 4,
   "metadata": {
    "scrolled": true
   },
   "outputs": [
    {
     "name": "stdout",
     "output_type": "stream",
     "text": [
      "62299 110527\n"
     ]
    }
   ],
   "source": [
    "# check for number of unique Patient ID and Appointment ID\n",
    "print(appointment_data['PatientId'].nunique(), appointment_data['AppointmentID'].nunique())"
   ]
  },
  {
   "cell_type": "markdown",
   "metadata": {},
   "source": [
    "Comments:\n",
    "\n",
    "    1. It could be seen that the Appointment ID column has unique values for all 110527 entries. This could be drop as it \n",
    "       would help in generating any insight. \n",
    "       \n",
    "    2. The Patient ID column however would be kept. Unlike the Appointment ID column, it\n",
    "       has instances of duplicated unique values which shows instances a particular patient was scheduled for an \n",
    "       appointment."
   ]
  },
  {
   "cell_type": "code",
   "execution_count": 5,
   "metadata": {
    "scrolled": true
   },
   "outputs": [
    {
     "data": {
      "text/html": [
       "<div>\n",
       "<style scoped>\n",
       "    .dataframe tbody tr th:only-of-type {\n",
       "        vertical-align: middle;\n",
       "    }\n",
       "\n",
       "    .dataframe tbody tr th {\n",
       "        vertical-align: top;\n",
       "    }\n",
       "\n",
       "    .dataframe thead th {\n",
       "        text-align: right;\n",
       "    }\n",
       "</style>\n",
       "<table border=\"1\" class=\"dataframe\">\n",
       "  <thead>\n",
       "    <tr style=\"text-align: right;\">\n",
       "      <th></th>\n",
       "      <th>PatientId</th>\n",
       "      <th>AppointmentID</th>\n",
       "      <th>Age</th>\n",
       "      <th>Scholarship</th>\n",
       "      <th>Hipertension</th>\n",
       "      <th>Diabetes</th>\n",
       "      <th>Alcoholism</th>\n",
       "      <th>Handcap</th>\n",
       "      <th>SMS_received</th>\n",
       "    </tr>\n",
       "  </thead>\n",
       "  <tbody>\n",
       "    <tr>\n",
       "      <th>count</th>\n",
       "      <td>1.105270e+05</td>\n",
       "      <td>1.105270e+05</td>\n",
       "      <td>110527.000000</td>\n",
       "      <td>110527.000000</td>\n",
       "      <td>110527.000000</td>\n",
       "      <td>110527.000000</td>\n",
       "      <td>110527.000000</td>\n",
       "      <td>110527.000000</td>\n",
       "      <td>110527.000000</td>\n",
       "    </tr>\n",
       "    <tr>\n",
       "      <th>mean</th>\n",
       "      <td>1.474963e+14</td>\n",
       "      <td>5.675305e+06</td>\n",
       "      <td>37.088874</td>\n",
       "      <td>0.098266</td>\n",
       "      <td>0.197246</td>\n",
       "      <td>0.071865</td>\n",
       "      <td>0.030400</td>\n",
       "      <td>0.022248</td>\n",
       "      <td>0.321026</td>\n",
       "    </tr>\n",
       "    <tr>\n",
       "      <th>std</th>\n",
       "      <td>2.560949e+14</td>\n",
       "      <td>7.129575e+04</td>\n",
       "      <td>23.110205</td>\n",
       "      <td>0.297675</td>\n",
       "      <td>0.397921</td>\n",
       "      <td>0.258265</td>\n",
       "      <td>0.171686</td>\n",
       "      <td>0.161543</td>\n",
       "      <td>0.466873</td>\n",
       "    </tr>\n",
       "    <tr>\n",
       "      <th>min</th>\n",
       "      <td>3.920000e+04</td>\n",
       "      <td>5.030230e+06</td>\n",
       "      <td>-1.000000</td>\n",
       "      <td>0.000000</td>\n",
       "      <td>0.000000</td>\n",
       "      <td>0.000000</td>\n",
       "      <td>0.000000</td>\n",
       "      <td>0.000000</td>\n",
       "      <td>0.000000</td>\n",
       "    </tr>\n",
       "    <tr>\n",
       "      <th>25%</th>\n",
       "      <td>4.172614e+12</td>\n",
       "      <td>5.640286e+06</td>\n",
       "      <td>18.000000</td>\n",
       "      <td>0.000000</td>\n",
       "      <td>0.000000</td>\n",
       "      <td>0.000000</td>\n",
       "      <td>0.000000</td>\n",
       "      <td>0.000000</td>\n",
       "      <td>0.000000</td>\n",
       "    </tr>\n",
       "    <tr>\n",
       "      <th>50%</th>\n",
       "      <td>3.173184e+13</td>\n",
       "      <td>5.680573e+06</td>\n",
       "      <td>37.000000</td>\n",
       "      <td>0.000000</td>\n",
       "      <td>0.000000</td>\n",
       "      <td>0.000000</td>\n",
       "      <td>0.000000</td>\n",
       "      <td>0.000000</td>\n",
       "      <td>0.000000</td>\n",
       "    </tr>\n",
       "    <tr>\n",
       "      <th>75%</th>\n",
       "      <td>9.439172e+13</td>\n",
       "      <td>5.725524e+06</td>\n",
       "      <td>55.000000</td>\n",
       "      <td>0.000000</td>\n",
       "      <td>0.000000</td>\n",
       "      <td>0.000000</td>\n",
       "      <td>0.000000</td>\n",
       "      <td>0.000000</td>\n",
       "      <td>1.000000</td>\n",
       "    </tr>\n",
       "    <tr>\n",
       "      <th>max</th>\n",
       "      <td>9.999816e+14</td>\n",
       "      <td>5.790484e+06</td>\n",
       "      <td>115.000000</td>\n",
       "      <td>1.000000</td>\n",
       "      <td>1.000000</td>\n",
       "      <td>1.000000</td>\n",
       "      <td>1.000000</td>\n",
       "      <td>4.000000</td>\n",
       "      <td>1.000000</td>\n",
       "    </tr>\n",
       "  </tbody>\n",
       "</table>\n",
       "</div>"
      ],
      "text/plain": [
       "          PatientId  AppointmentID            Age    Scholarship  \\\n",
       "count  1.105270e+05   1.105270e+05  110527.000000  110527.000000   \n",
       "mean   1.474963e+14   5.675305e+06      37.088874       0.098266   \n",
       "std    2.560949e+14   7.129575e+04      23.110205       0.297675   \n",
       "min    3.920000e+04   5.030230e+06      -1.000000       0.000000   \n",
       "25%    4.172614e+12   5.640286e+06      18.000000       0.000000   \n",
       "50%    3.173184e+13   5.680573e+06      37.000000       0.000000   \n",
       "75%    9.439172e+13   5.725524e+06      55.000000       0.000000   \n",
       "max    9.999816e+14   5.790484e+06     115.000000       1.000000   \n",
       "\n",
       "        Hipertension       Diabetes     Alcoholism        Handcap  \\\n",
       "count  110527.000000  110527.000000  110527.000000  110527.000000   \n",
       "mean        0.197246       0.071865       0.030400       0.022248   \n",
       "std         0.397921       0.258265       0.171686       0.161543   \n",
       "min         0.000000       0.000000       0.000000       0.000000   \n",
       "25%         0.000000       0.000000       0.000000       0.000000   \n",
       "50%         0.000000       0.000000       0.000000       0.000000   \n",
       "75%         0.000000       0.000000       0.000000       0.000000   \n",
       "max         1.000000       1.000000       1.000000       4.000000   \n",
       "\n",
       "        SMS_received  \n",
       "count  110527.000000  \n",
       "mean        0.321026  \n",
       "std         0.466873  \n",
       "min         0.000000  \n",
       "25%         0.000000  \n",
       "50%         0.000000  \n",
       "75%         1.000000  \n",
       "max         1.000000  "
      ]
     },
     "execution_count": 5,
     "metadata": {},
     "output_type": "execute_result"
    }
   ],
   "source": [
    "# view the general statistics on the columns of the datasets\n",
    "appointment_data.describe()"
   ]
  },
  {
   "cell_type": "markdown",
   "metadata": {},
   "source": [
    "Comments:\n",
    "\n",
    "    The code above outputs statistics on the columns with numerical entries in the dataset. From the statistics above;\n",
    "        1. of all the patients schdeuld for appointment, the youngest age was -1 and the oldest were 115 \n",
    "           years old and the average age was 37 years. Since age can not be a negative value, this entry would be replaced \n",
    "           with the mean value of all the ages.\n",
    "        \n",
    "        2. hipertention was the medical issue most patients scheduled for appointment had, followed by diabetes, alcoholism \n",
    "           and lastly hand_cap. (This is infered by their mean values since the entries are either 1 or 0. The greater the \n",
    "           mean, the higher the number of such medical conditions.\n",
    "           \n",
    "        3. a greater number of patients are not enrolled on the Brasilian Welfare Program. The mean for the scholarship \n",
    "           column is less than 0.5. Since the column entries are just 0 and 1, a mean of 0.5 would signify equal number of\n",
    "           patients enrolled or not enrolled ont the welfare program. A mean of less than 0.5 signifies most of the \n",
    "           patients are not enrolled on the Brasilian Welfare Program and vice versa.\n",
    " \n",
    "        4. most patients were not contatcted via sms. Reason is same as that of point 3 above.\n",
    "        \n",
    "        4. Handcap column has maximum value of 4. This should be rectify such that the column contains onlt zeros and \n",
    "           ones (0 & 1)"
   ]
  },
  {
   "cell_type": "markdown",
   "metadata": {},
   "source": [
    "#### Conclusion from Phase-1 of Data Wrangling\n",
    "\n",
    ">To make the dataset clean for use;\n",
    "> 1. standardize column names by changing all to lower case, and intro underscore where needed.\n",
    "> 2. Replace all \"T\"s and \"Z\"s in the SceduledDay and AppointmentDay columns\n",
    "> 3. split ScheduledDay and AppointmentDay columns each into two difference columns each and rename the resulting columns\n",
    "> 4. drop all unwanted columns (e.g. the time columns that would be generated from the split in point 2)\n",
    "> 5. replace negative age value with mean of ages\n",
    "> 6. Add an extra column based on demographics of patients\n",
    "> 7. Change the datatypes of specific columns as required"
   ]
  },
  {
   "cell_type": "markdown",
   "metadata": {},
   "source": [
    "### Phase 2: Cleaning Dataset to Ensure Insights Generated Afterwards are Error-Free"
   ]
  },
  {
   "cell_type": "markdown",
   "metadata": {},
   "source": [
    "#### Standardizing Column Names"
   ]
  },
  {
   "cell_type": "code",
   "execution_count": 6,
   "metadata": {
    "scrolled": true
   },
   "outputs": [
    {
     "data": {
      "text/html": [
       "<div>\n",
       "<style scoped>\n",
       "    .dataframe tbody tr th:only-of-type {\n",
       "        vertical-align: middle;\n",
       "    }\n",
       "\n",
       "    .dataframe tbody tr th {\n",
       "        vertical-align: top;\n",
       "    }\n",
       "\n",
       "    .dataframe thead th {\n",
       "        text-align: right;\n",
       "    }\n",
       "</style>\n",
       "<table border=\"1\" class=\"dataframe\">\n",
       "  <thead>\n",
       "    <tr style=\"text-align: right;\">\n",
       "      <th></th>\n",
       "      <th>patient_id</th>\n",
       "      <th>appointment_id</th>\n",
       "      <th>gender</th>\n",
       "      <th>scheduled_day</th>\n",
       "      <th>appointment_day</th>\n",
       "      <th>age</th>\n",
       "      <th>neighbourhood</th>\n",
       "      <th>scholarship</th>\n",
       "      <th>hipertension</th>\n",
       "      <th>diabetes</th>\n",
       "      <th>alcoholism</th>\n",
       "      <th>handcap</th>\n",
       "      <th>sms_received</th>\n",
       "      <th>no_show</th>\n",
       "    </tr>\n",
       "  </thead>\n",
       "  <tbody>\n",
       "    <tr>\n",
       "      <th>0</th>\n",
       "      <td>2.987250e+13</td>\n",
       "      <td>5642903</td>\n",
       "      <td>F</td>\n",
       "      <td>2016-04-29T18:38:08Z</td>\n",
       "      <td>2016-04-29T00:00:00Z</td>\n",
       "      <td>62</td>\n",
       "      <td>JARDIM DA PENHA</td>\n",
       "      <td>0</td>\n",
       "      <td>1</td>\n",
       "      <td>0</td>\n",
       "      <td>0</td>\n",
       "      <td>0</td>\n",
       "      <td>0</td>\n",
       "      <td>No</td>\n",
       "    </tr>\n",
       "  </tbody>\n",
       "</table>\n",
       "</div>"
      ],
      "text/plain": [
       "     patient_id  appointment_id gender         scheduled_day  \\\n",
       "0  2.987250e+13         5642903      F  2016-04-29T18:38:08Z   \n",
       "\n",
       "        appointment_day  age    neighbourhood  scholarship  hipertension  \\\n",
       "0  2016-04-29T00:00:00Z   62  JARDIM DA PENHA            0             1   \n",
       "\n",
       "   diabetes  alcoholism  handcap  sms_received no_show  \n",
       "0         0           0        0             0      No  "
      ]
     },
     "execution_count": 6,
     "metadata": {},
     "output_type": "execute_result"
    }
   ],
   "source": [
    "# change all column names to lower case\n",
    "appointment_data.columns = appointment_data.columns.str.lower().str.replace('-','_')\n",
    "\n",
    "# introduce underscore in the following column names; 'patientid', 'scheduledday' and 'appointmentday'\n",
    "appointment_data.rename(columns={'patientid':'patient_id','appointmentid':'appointment_id',\n",
    "                                 'scheduledday':'scheduled_day','appointmentday':'appointment_day'}, inplace =True)\n",
    "\n",
    "# view changes effect\n",
    "appointment_data.head(1)"
   ]
  },
  {
   "cell_type": "markdown",
   "metadata": {},
   "source": [
    "Comment: \n",
    "    \n",
    "    Column names changed to include only lower case letters and underscores between two words"
   ]
  },
  {
   "cell_type": "markdown",
   "metadata": {},
   "source": [
    "#### Manipulating Dataset Columns"
   ]
  },
  {
   "cell_type": "code",
   "execution_count": 7,
   "metadata": {},
   "outputs": [],
   "source": [
    "# replace T with a space and remove Z from scheduled_day and appointment_day columns\n",
    "appointment_data['scheduled_day'] = appointment_data['scheduled_day'].str.replace('T',' ').str.replace('Z','')\n",
    "appointment_data['appointment_day'] = appointment_data['appointment_day'].str.replace('T',' ').str.replace('Z','')"
   ]
  },
  {
   "cell_type": "markdown",
   "metadata": {},
   "source": [
    "Comments: \n",
    "\n",
    "    All \"T\"s are replaced with a space and \"Z\"s removed from the scheduled_day and appointment_day columns."
   ]
  },
  {
   "cell_type": "code",
   "execution_count": 8,
   "metadata": {},
   "outputs": [],
   "source": [
    "# split scheduled_day and appointment_day columns\n",
    "appointment_data[['scheduled_day','scheduled_time']] = appointment_data['scheduled_day'].str.split(' ', expand=True)\n",
    "appointment_data[['appointment_day','appointment_time']] = appointment_data['appointment_day'].str.split(' ', expand=True)"
   ]
  },
  {
   "cell_type": "markdown",
   "metadata": {},
   "source": [
    "Comment:\n",
    "\n",
    "    The two datetime columns are split each into a date column and a time column."
   ]
  },
  {
   "cell_type": "code",
   "execution_count": 9,
   "metadata": {},
   "outputs": [
    {
     "data": {
      "text/html": [
       "<div>\n",
       "<style scoped>\n",
       "    .dataframe tbody tr th:only-of-type {\n",
       "        vertical-align: middle;\n",
       "    }\n",
       "\n",
       "    .dataframe tbody tr th {\n",
       "        vertical-align: top;\n",
       "    }\n",
       "\n",
       "    .dataframe thead th {\n",
       "        text-align: right;\n",
       "    }\n",
       "</style>\n",
       "<table border=\"1\" class=\"dataframe\">\n",
       "  <thead>\n",
       "    <tr style=\"text-align: right;\">\n",
       "      <th></th>\n",
       "      <th>patient_id</th>\n",
       "      <th>appointment_id</th>\n",
       "      <th>gender</th>\n",
       "      <th>scheduled_day</th>\n",
       "      <th>appointment_day</th>\n",
       "      <th>age</th>\n",
       "      <th>neighbourhood</th>\n",
       "      <th>scholarship</th>\n",
       "      <th>hipertension</th>\n",
       "      <th>diabetes</th>\n",
       "      <th>alcoholism</th>\n",
       "      <th>handcap</th>\n",
       "      <th>sms_received</th>\n",
       "      <th>no_show</th>\n",
       "      <th>scheduled_time</th>\n",
       "      <th>appointment_time</th>\n",
       "    </tr>\n",
       "  </thead>\n",
       "  <tbody>\n",
       "    <tr>\n",
       "      <th>0</th>\n",
       "      <td>2.987250e+13</td>\n",
       "      <td>5642903</td>\n",
       "      <td>F</td>\n",
       "      <td>2016-04-29</td>\n",
       "      <td>2016-04-29</td>\n",
       "      <td>62</td>\n",
       "      <td>JARDIM DA PENHA</td>\n",
       "      <td>0</td>\n",
       "      <td>1</td>\n",
       "      <td>0</td>\n",
       "      <td>0</td>\n",
       "      <td>0</td>\n",
       "      <td>0</td>\n",
       "      <td>No</td>\n",
       "      <td>18:38:08</td>\n",
       "      <td>00:00:00</td>\n",
       "    </tr>\n",
       "  </tbody>\n",
       "</table>\n",
       "</div>"
      ],
      "text/plain": [
       "     patient_id  appointment_id gender scheduled_day appointment_day  age  \\\n",
       "0  2.987250e+13         5642903      F    2016-04-29      2016-04-29   62   \n",
       "\n",
       "     neighbourhood  scholarship  hipertension  diabetes  alcoholism  handcap  \\\n",
       "0  JARDIM DA PENHA            0             1         0           0        0   \n",
       "\n",
       "   sms_received no_show scheduled_time appointment_time  \n",
       "0             0      No       18:38:08         00:00:00  "
      ]
     },
     "execution_count": 9,
     "metadata": {},
     "output_type": "execute_result"
    }
   ],
   "source": [
    "# view dataset for effected changes\n",
    "appointment_data.head(1)"
   ]
  },
  {
   "cell_type": "markdown",
   "metadata": {},
   "source": [
    "Comment:\n",
    "\n",
    "    Dataset is viewed to see effected change"
   ]
  },
  {
   "cell_type": "code",
   "execution_count": 10,
   "metadata": {},
   "outputs": [
    {
     "name": "stdout",
     "output_type": "stream",
     "text": [
      "0 patient_id\n",
      "1 appointment_id\n",
      "2 gender\n",
      "3 scheduled_day\n",
      "4 appointment_day\n",
      "5 age\n",
      "6 neighbourhood\n",
      "7 scholarship\n",
      "8 hipertension\n",
      "9 diabetes\n",
      "10 alcoholism\n",
      "11 handcap\n",
      "12 sms_received\n",
      "13 no_show\n",
      "14 scheduled_time\n",
      "15 appointment_time\n"
     ]
    }
   ],
   "source": [
    "# print all columns with their respective indices\n",
    "for i, j in enumerate(appointment_data.columns):\n",
    "    print(i,j)"
   ]
  },
  {
   "cell_type": "markdown",
   "metadata": {},
   "source": [
    "Comment:\n",
    "    \n",
    "    All column names are printed out with their respective indices to enable ease of dropping appropriate columns by index"
   ]
  },
  {
   "cell_type": "code",
   "execution_count": 11,
   "metadata": {},
   "outputs": [],
   "source": [
    "# drop unwanted columns: 'appointment_id', 'schdeled_time', 'appointment_time'\n",
    "\n",
    "appointment_data.drop(appointment_data.columns[[1,14,15]], axis=1, inplace=True)"
   ]
  },
  {
   "cell_type": "markdown",
   "metadata": {},
   "source": [
    "Comment:\n",
    "\n",
    "    Dropped unwanted columns for the purposes of this analysis. These are 'appointment_id', 'schdeled_time', and\n",
    "    'appointment_time' columns"
   ]
  },
  {
   "cell_type": "code",
   "execution_count": 12,
   "metadata": {
    "scrolled": false
   },
   "outputs": [
    {
     "data": {
      "text/html": [
       "<div>\n",
       "<style scoped>\n",
       "    .dataframe tbody tr th:only-of-type {\n",
       "        vertical-align: middle;\n",
       "    }\n",
       "\n",
       "    .dataframe tbody tr th {\n",
       "        vertical-align: top;\n",
       "    }\n",
       "\n",
       "    .dataframe thead th {\n",
       "        text-align: right;\n",
       "    }\n",
       "</style>\n",
       "<table border=\"1\" class=\"dataframe\">\n",
       "  <thead>\n",
       "    <tr style=\"text-align: right;\">\n",
       "      <th></th>\n",
       "      <th>patient_id</th>\n",
       "      <th>gender</th>\n",
       "      <th>scheduled_day</th>\n",
       "      <th>appointment_day</th>\n",
       "      <th>age</th>\n",
       "      <th>neighbourhood</th>\n",
       "      <th>scholarship</th>\n",
       "      <th>hipertension</th>\n",
       "      <th>diabetes</th>\n",
       "      <th>alcoholism</th>\n",
       "      <th>handcap</th>\n",
       "      <th>sms_received</th>\n",
       "      <th>no_show</th>\n",
       "    </tr>\n",
       "  </thead>\n",
       "  <tbody>\n",
       "    <tr>\n",
       "      <th>0</th>\n",
       "      <td>2.987250e+13</td>\n",
       "      <td>F</td>\n",
       "      <td>2016-04-29</td>\n",
       "      <td>2016-04-29</td>\n",
       "      <td>62</td>\n",
       "      <td>JARDIM DA PENHA</td>\n",
       "      <td>0</td>\n",
       "      <td>1</td>\n",
       "      <td>0</td>\n",
       "      <td>0</td>\n",
       "      <td>0</td>\n",
       "      <td>0</td>\n",
       "      <td>No</td>\n",
       "    </tr>\n",
       "  </tbody>\n",
       "</table>\n",
       "</div>"
      ],
      "text/plain": [
       "     patient_id gender scheduled_day appointment_day  age    neighbourhood  \\\n",
       "0  2.987250e+13      F    2016-04-29      2016-04-29   62  JARDIM DA PENHA   \n",
       "\n",
       "   scholarship  hipertension  diabetes  alcoholism  handcap  sms_received  \\\n",
       "0            0             1         0           0        0             0   \n",
       "\n",
       "  no_show  \n",
       "0      No  "
      ]
     },
     "execution_count": 12,
     "metadata": {},
     "output_type": "execute_result"
    }
   ],
   "source": [
    "# view effected changes\n",
    "appointment_data.head(1)"
   ]
  },
  {
   "cell_type": "markdown",
   "metadata": {},
   "source": [
    "Comment:\n",
    "\n",
    "\n",
    "    Checking that dropped columns are no longer in the dataset"
   ]
  },
  {
   "cell_type": "code",
   "execution_count": 13,
   "metadata": {},
   "outputs": [],
   "source": [
    "# replace negative age value(s) with mean of ages\n",
    "appointment_data['age'] = np.where(appointment_data['age'] < 0, \n",
    "                                   round(appointment_data['age'].mean()), appointment_data['age'])\n",
    "\n",
    "# convert hancap column to only 0s and 1s\n",
    "appointment_data['handcap'] = np.where(appointment_data['handcap']>0, 1, 0)"
   ]
  },
  {
   "cell_type": "markdown",
   "metadata": {},
   "source": [
    "Comments:\n",
    "\n",
    "    1. Negative age value(s) (-1) replaced with the mean of all the patients ages\n",
    "    2. Handcap column converted to contain only zeros and ones as it is for the other medical condition columns\n",
    "    \n",
    "[Knowledge Source: Replacing negative values](https://www.geeksforgeeks.org/how-to-replace-values-in-column-based-on-condition-in-pandas/)\n",
    "\n",
    "[knowledge source: Rounding decimals](https://www.guru99.com/round-function-python.html#:~:text=May%203%2C%202022-,Round(),round%20to%20the%20nearest%20integer.)"
   ]
  },
  {
   "cell_type": "code",
   "execution_count": 14,
   "metadata": {
    "scrolled": true
   },
   "outputs": [
    {
     "data": {
      "text/html": [
       "<div>\n",
       "<style scoped>\n",
       "    .dataframe tbody tr th:only-of-type {\n",
       "        vertical-align: middle;\n",
       "    }\n",
       "\n",
       "    .dataframe tbody tr th {\n",
       "        vertical-align: top;\n",
       "    }\n",
       "\n",
       "    .dataframe thead th {\n",
       "        text-align: right;\n",
       "    }\n",
       "</style>\n",
       "<table border=\"1\" class=\"dataframe\">\n",
       "  <thead>\n",
       "    <tr style=\"text-align: right;\">\n",
       "      <th></th>\n",
       "      <th>patient_id</th>\n",
       "      <th>age</th>\n",
       "      <th>scholarship</th>\n",
       "      <th>hipertension</th>\n",
       "      <th>diabetes</th>\n",
       "      <th>alcoholism</th>\n",
       "      <th>handcap</th>\n",
       "      <th>sms_received</th>\n",
       "    </tr>\n",
       "  </thead>\n",
       "  <tbody>\n",
       "    <tr>\n",
       "      <th>count</th>\n",
       "      <td>1.105270e+05</td>\n",
       "      <td>110527.000000</td>\n",
       "      <td>110527.000000</td>\n",
       "      <td>110527.000000</td>\n",
       "      <td>110527.000000</td>\n",
       "      <td>110527.000000</td>\n",
       "      <td>110527.000000</td>\n",
       "      <td>110527.000000</td>\n",
       "    </tr>\n",
       "    <tr>\n",
       "      <th>mean</th>\n",
       "      <td>1.474963e+14</td>\n",
       "      <td>37.089218</td>\n",
       "      <td>0.098266</td>\n",
       "      <td>0.197246</td>\n",
       "      <td>0.071865</td>\n",
       "      <td>0.030400</td>\n",
       "      <td>0.020276</td>\n",
       "      <td>0.321026</td>\n",
       "    </tr>\n",
       "    <tr>\n",
       "      <th>std</th>\n",
       "      <td>2.560949e+14</td>\n",
       "      <td>23.109921</td>\n",
       "      <td>0.297675</td>\n",
       "      <td>0.397921</td>\n",
       "      <td>0.258265</td>\n",
       "      <td>0.171686</td>\n",
       "      <td>0.140942</td>\n",
       "      <td>0.466873</td>\n",
       "    </tr>\n",
       "    <tr>\n",
       "      <th>min</th>\n",
       "      <td>3.920000e+04</td>\n",
       "      <td>0.000000</td>\n",
       "      <td>0.000000</td>\n",
       "      <td>0.000000</td>\n",
       "      <td>0.000000</td>\n",
       "      <td>0.000000</td>\n",
       "      <td>0.000000</td>\n",
       "      <td>0.000000</td>\n",
       "    </tr>\n",
       "    <tr>\n",
       "      <th>25%</th>\n",
       "      <td>4.172614e+12</td>\n",
       "      <td>18.000000</td>\n",
       "      <td>0.000000</td>\n",
       "      <td>0.000000</td>\n",
       "      <td>0.000000</td>\n",
       "      <td>0.000000</td>\n",
       "      <td>0.000000</td>\n",
       "      <td>0.000000</td>\n",
       "    </tr>\n",
       "    <tr>\n",
       "      <th>50%</th>\n",
       "      <td>3.173184e+13</td>\n",
       "      <td>37.000000</td>\n",
       "      <td>0.000000</td>\n",
       "      <td>0.000000</td>\n",
       "      <td>0.000000</td>\n",
       "      <td>0.000000</td>\n",
       "      <td>0.000000</td>\n",
       "      <td>0.000000</td>\n",
       "    </tr>\n",
       "    <tr>\n",
       "      <th>75%</th>\n",
       "      <td>9.439172e+13</td>\n",
       "      <td>55.000000</td>\n",
       "      <td>0.000000</td>\n",
       "      <td>0.000000</td>\n",
       "      <td>0.000000</td>\n",
       "      <td>0.000000</td>\n",
       "      <td>0.000000</td>\n",
       "      <td>1.000000</td>\n",
       "    </tr>\n",
       "    <tr>\n",
       "      <th>max</th>\n",
       "      <td>9.999816e+14</td>\n",
       "      <td>115.000000</td>\n",
       "      <td>1.000000</td>\n",
       "      <td>1.000000</td>\n",
       "      <td>1.000000</td>\n",
       "      <td>1.000000</td>\n",
       "      <td>1.000000</td>\n",
       "      <td>1.000000</td>\n",
       "    </tr>\n",
       "  </tbody>\n",
       "</table>\n",
       "</div>"
      ],
      "text/plain": [
       "         patient_id            age    scholarship   hipertension  \\\n",
       "count  1.105270e+05  110527.000000  110527.000000  110527.000000   \n",
       "mean   1.474963e+14      37.089218       0.098266       0.197246   \n",
       "std    2.560949e+14      23.109921       0.297675       0.397921   \n",
       "min    3.920000e+04       0.000000       0.000000       0.000000   \n",
       "25%    4.172614e+12      18.000000       0.000000       0.000000   \n",
       "50%    3.173184e+13      37.000000       0.000000       0.000000   \n",
       "75%    9.439172e+13      55.000000       0.000000       0.000000   \n",
       "max    9.999816e+14     115.000000       1.000000       1.000000   \n",
       "\n",
       "            diabetes     alcoholism        handcap   sms_received  \n",
       "count  110527.000000  110527.000000  110527.000000  110527.000000  \n",
       "mean        0.071865       0.030400       0.020276       0.321026  \n",
       "std         0.258265       0.171686       0.140942       0.466873  \n",
       "min         0.000000       0.000000       0.000000       0.000000  \n",
       "25%         0.000000       0.000000       0.000000       0.000000  \n",
       "50%         0.000000       0.000000       0.000000       0.000000  \n",
       "75%         0.000000       0.000000       0.000000       1.000000  \n",
       "max         1.000000       1.000000       1.000000       1.000000  "
      ]
     },
     "execution_count": 14,
     "metadata": {},
     "output_type": "execute_result"
    }
   ],
   "source": [
    "# verify change is effected\n",
    "appointment_data.describe()"
   ]
  },
  {
   "cell_type": "markdown",
   "metadata": {},
   "source": [
    "Comment:\n",
    "\n",
    "    Verifying negative ages have been replaced. It could be seen that the minimum age is now zero."
   ]
  },
  {
   "cell_type": "code",
   "execution_count": 15,
   "metadata": {},
   "outputs": [],
   "source": [
    "# Set parameters to be used for creating new column based on demographics\n",
    "\n",
    "# define demographics \n",
    "demographics = [-1,17,39,59,120]\n",
    "\n",
    "# set demographic identifiers\n",
    "demographics_id = ['child', 'adult', 'middle age', 'old']"
   ]
  },
  {
   "cell_type": "markdown",
   "metadata": {},
   "source": [
    "<a id=\"demo\"></a>\n",
    "Comments:\n",
    "\n",
    "    Demographic categories is deifined as below\n",
    "    1. Ages 0 - 17  -> child\n",
    "    2. Ages 18 - 39 -> adult\n",
    "    3. Ages 40 - 59 -> middle age\n",
    "    4. Ages 60 and above -> old\n",
    "<ul>\n",
    "<li><a href=\"#back4\">Back 5</a></li>\n",
    "<li><a href=\"#demo_prop\">Back 8</a></li>    \n",
    "</ul>"
   ]
  },
  {
   "cell_type": "code",
   "execution_count": 16,
   "metadata": {},
   "outputs": [],
   "source": [
    "# create additional column (demographics) to categorize age of pattients\n",
    "appointment_data['demographics'] = pd.cut(appointment_data['age'], demographics, labels=demographics_id) "
   ]
  },
  {
   "cell_type": "markdown",
   "metadata": {},
   "source": [
    "Comment:    \n",
    "\n",
    "    Add extra column called demograhics to categorize patients ages"
   ]
  },
  {
   "cell_type": "code",
   "execution_count": 17,
   "metadata": {
    "scrolled": false
   },
   "outputs": [
    {
     "data": {
      "text/html": [
       "<div>\n",
       "<style scoped>\n",
       "    .dataframe tbody tr th:only-of-type {\n",
       "        vertical-align: middle;\n",
       "    }\n",
       "\n",
       "    .dataframe tbody tr th {\n",
       "        vertical-align: top;\n",
       "    }\n",
       "\n",
       "    .dataframe thead th {\n",
       "        text-align: right;\n",
       "    }\n",
       "</style>\n",
       "<table border=\"1\" class=\"dataframe\">\n",
       "  <thead>\n",
       "    <tr style=\"text-align: right;\">\n",
       "      <th></th>\n",
       "      <th>patient_id</th>\n",
       "      <th>gender</th>\n",
       "      <th>scheduled_day</th>\n",
       "      <th>appointment_day</th>\n",
       "      <th>age</th>\n",
       "      <th>neighbourhood</th>\n",
       "      <th>scholarship</th>\n",
       "      <th>hipertension</th>\n",
       "      <th>diabetes</th>\n",
       "      <th>alcoholism</th>\n",
       "      <th>handcap</th>\n",
       "      <th>sms_received</th>\n",
       "      <th>no_show</th>\n",
       "      <th>demographics</th>\n",
       "    </tr>\n",
       "  </thead>\n",
       "  <tbody>\n",
       "    <tr>\n",
       "      <th>75</th>\n",
       "      <td>1.488942e+11</td>\n",
       "      <td>F</td>\n",
       "      <td>2016-04-18</td>\n",
       "      <td>2016-04-29</td>\n",
       "      <td>60</td>\n",
       "      <td>JABOUR</td>\n",
       "      <td>0</td>\n",
       "      <td>0</td>\n",
       "      <td>0</td>\n",
       "      <td>0</td>\n",
       "      <td>0</td>\n",
       "      <td>0</td>\n",
       "      <td>No</td>\n",
       "      <td>old</td>\n",
       "    </tr>\n",
       "    <tr>\n",
       "      <th>294</th>\n",
       "      <td>6.492948e+12</td>\n",
       "      <td>M</td>\n",
       "      <td>2016-03-14</td>\n",
       "      <td>2016-04-29</td>\n",
       "      <td>60</td>\n",
       "      <td>ANDORINHAS</td>\n",
       "      <td>0</td>\n",
       "      <td>1</td>\n",
       "      <td>1</td>\n",
       "      <td>0</td>\n",
       "      <td>0</td>\n",
       "      <td>1</td>\n",
       "      <td>No</td>\n",
       "      <td>old</td>\n",
       "    </tr>\n",
       "  </tbody>\n",
       "</table>\n",
       "</div>"
      ],
      "text/plain": [
       "       patient_id gender scheduled_day appointment_day  age neighbourhood  \\\n",
       "75   1.488942e+11      F    2016-04-18      2016-04-29   60        JABOUR   \n",
       "294  6.492948e+12      M    2016-03-14      2016-04-29   60    ANDORINHAS   \n",
       "\n",
       "     scholarship  hipertension  diabetes  alcoholism  handcap  sms_received  \\\n",
       "75             0             0         0           0        0             0   \n",
       "294            0             1         1           0        0             1   \n",
       "\n",
       "    no_show demographics  \n",
       "75       No          old  \n",
       "294      No          old  "
      ]
     },
     "execution_count": 17,
     "metadata": {},
     "output_type": "execute_result"
    }
   ],
   "source": [
    "# testing to check efefctiveness of age categorization made\n",
    "appointment_data[appointment_data['age']==60].head(2)"
   ]
  },
  {
   "cell_type": "markdown",
   "metadata": {},
   "source": [
    "Comment:\n",
    "    \n",
    "    1. Checking effectiveness of the category column (demograhics) created\n",
    "    2. Change number (currently 60) to verify different ages and their category"
   ]
  },
  {
   "cell_type": "markdown",
   "metadata": {},
   "source": [
    "#### Changing Data Types"
   ]
  },
  {
   "cell_type": "code",
   "execution_count": 18,
   "metadata": {
    "scrolled": true
   },
   "outputs": [
    {
     "data": {
      "text/plain": [
       "patient_id          float64\n",
       "gender               object\n",
       "scheduled_day        object\n",
       "appointment_day      object\n",
       "age                   int64\n",
       "neighbourhood        object\n",
       "scholarship           int64\n",
       "hipertension          int64\n",
       "diabetes              int64\n",
       "alcoholism            int64\n",
       "handcap               int32\n",
       "sms_received          int64\n",
       "no_show              object\n",
       "demographics       category\n",
       "dtype: object"
      ]
     },
     "execution_count": 18,
     "metadata": {},
     "output_type": "execute_result"
    }
   ],
   "source": [
    "# view data types in dataset\n",
    "appointment_data.dtypes"
   ]
  },
  {
   "cell_type": "markdown",
   "metadata": {},
   "source": [
    "Comment:\n",
    "    \n",
    "    Checking datatypes of the resulting dataframe columns"
   ]
  },
  {
   "cell_type": "code",
   "execution_count": 19,
   "metadata": {},
   "outputs": [],
   "source": [
    "# # change data types of particular columns\n",
    "\n",
    "appointment_data = appointment_data.astype({'patient_id':'int64', 'age':'int64','demographics':'str'}) # use np.int64 or 'int64'\n",
    "\n",
    "# # change scheduled_day and appointday to date time\n",
    "appointment_data['scheduled_day'] = pd.to_datetime(appointment_data['scheduled_day'])\n",
    "appointment_data['appointment_day'] = pd.to_datetime(appointment_data['appointment_day'])\n"
   ]
  },
  {
   "cell_type": "markdown",
   "metadata": {},
   "source": [
    "Comments:\n",
    "\n",
    "    1. patient_id column data type changed from float (decimals) to integer data type\n",
    "    2. demographics column data type changed from category to string (object)\n",
    "    3. scheduled_day column data type changed from string(object) to datetime\n",
    "    4. appointment_day column data type changed from string(object) to datetime\n",
    "\n",
    "[knowledge source:](https://www.geeksforgeeks.org/python-pandas-dataframe-astype/)"
   ]
  },
  {
   "cell_type": "code",
   "execution_count": 20,
   "metadata": {
    "scrolled": false
   },
   "outputs": [
    {
     "name": "stdout",
     "output_type": "stream",
     "text": [
      "<class 'pandas.core.frame.DataFrame'>\n",
      "RangeIndex: 110527 entries, 0 to 110526\n",
      "Data columns (total 14 columns):\n",
      " #   Column           Non-Null Count   Dtype         \n",
      "---  ------           --------------   -----         \n",
      " 0   patient_id       110527 non-null  int64         \n",
      " 1   gender           110527 non-null  object        \n",
      " 2   scheduled_day    110527 non-null  datetime64[ns]\n",
      " 3   appointment_day  110527 non-null  datetime64[ns]\n",
      " 4   age              110527 non-null  int64         \n",
      " 5   neighbourhood    110527 non-null  object        \n",
      " 6   scholarship      110527 non-null  int64         \n",
      " 7   hipertension     110527 non-null  int64         \n",
      " 8   diabetes         110527 non-null  int64         \n",
      " 9   alcoholism       110527 non-null  int64         \n",
      " 10  handcap          110527 non-null  int32         \n",
      " 11  sms_received     110527 non-null  int64         \n",
      " 12  no_show          110527 non-null  object        \n",
      " 13  demographics     110527 non-null  object        \n",
      "dtypes: datetime64[ns](2), int32(1), int64(7), object(4)\n",
      "memory usage: 11.4+ MB\n"
     ]
    }
   ],
   "source": [
    "# check effected changes on data types and that there are no missing values\n",
    "appointment_data.info()"
   ]
  },
  {
   "cell_type": "markdown",
   "metadata": {},
   "source": [
    "Comment:\n",
    "\n",
    "    Data is now clean and has no missing values. It is ready for exploration now."
   ]
  },
  {
   "cell_type": "markdown",
   "metadata": {},
   "source": [
    "<a id='eda'></a>\n",
    "## Exploratory Data Analysis\n",
    "\n",
    " \n",
    "\n",
    "### 1. What is the Distribution of Appointments by Attendance?\n",
    "<a id='q1'></a>\n",
    "<li><a href='#bq1'>Back</a></li>"
   ]
  },
  {
   "cell_type": "markdown",
   "metadata": {},
   "source": [
    "#### 1.1 Compute Number of Appointments Attended and Not Attended"
   ]
  },
  {
   "cell_type": "code",
   "execution_count": 21,
   "metadata": {},
   "outputs": [
    {
     "data": {
      "text/plain": [
       "No     88208\n",
       "Yes    22319\n",
       "Name: no_show, dtype: int64"
      ]
     },
     "execution_count": 21,
     "metadata": {},
     "output_type": "execute_result"
    }
   ],
   "source": [
    "# Compute number of appointments attended and not attended.\n",
    "total_apt_attendance = appointment_data['no_show'].value_counts()\n",
    "# view results\n",
    "total_apt_attendance"
   ]
  },
  {
   "cell_type": "markdown",
   "metadata": {},
   "source": [
    "Comment:\n",
    "    \n",
    "    Relatively, more appointments were attended as the count of \"No\" is higher than \"Yes\"\n",
    "    NB: 'No' means appointment was attended, 'Yes' means patient did not attend the scheduled appointment"
   ]
  },
  {
   "cell_type": "markdown",
   "metadata": {},
   "source": [
    "#### 1.2 Visualizing appointments attended and not attended"
   ]
  },
  {
   "cell_type": "code",
   "execution_count": 22,
   "metadata": {},
   "outputs": [],
   "source": [
    "# define function to plot 1*2 matrix showing bar plot and pie plot\n",
    "def plot_bar_pie(x, y, title, x_label, y_label, label_a, label_b):\n",
    "    # set figure size\n",
    "    plt.figure(figsize=(14,5))\n",
    "    # set horizontal spacing between subplots\n",
    "    plt.subplots_adjust(wspace=0.9)\n",
    "    # choose style to use\n",
    "    style.use('seaborn')\n",
    "\n",
    "    # set location of first plot\n",
    "    plt.subplot(1,2,1)\n",
    "    # plot bar chart\n",
    "    plt.bar([label_a, label_b], [x,y])\n",
    "    # Assign bar chart title\n",
    "    plt.title(title, font={'size':20}, loc='center')\n",
    "    # Assign x-axis label\n",
    "    plt.xlabel(x_label, fontdict={'size':14})\n",
    "    # Assign y-axis label\n",
    "    plt.ylabel(y_label, fontdict={'size':14})\n",
    "\n",
    "    # set location for second plot\n",
    "    plt.subplot(1,2,2)\n",
    "    # plot pie chart\n",
    "    plt.pie([x,y], labels=[label_a, label_b],autopct='%1.1f%%', startangle=180)\n",
    "    # Assign pie chart title\n",
    "    plt.title(title, font={'size':20}, loc='center')\n",
    "    return plt.show()"
   ]
  },
  {
   "cell_type": "markdown",
   "metadata": {},
   "source": [
    "[knowledge source: Changing font size](https://www.tutorialexample.com/understand-matplotlib-fontdict-a-beginner-guide-matplotlib-tutorial/)\n",
    "\n",
    "[knowledge source:Changing title font  location](https://matplotlib.org/stable/gallery/text_labels_and_annotations/titles_demo.html)"
   ]
  },
  {
   "cell_type": "code",
   "execution_count": 23,
   "metadata": {
    "scrolled": false
   },
   "outputs": [
    {
     "data": {
      "image/png": "[encoded data removed]",
      "text/plain": [
       "<Figure size 1008x360 with 2 Axes>"
      ]
     },
     "metadata": {
      "needs_background": "light"
     },
     "output_type": "display_data"
    }
   ],
   "source": [
    "# Plot bar and pie charts showing appointments attended and not attended\n",
    "plot_bar_pie(total_apt_attendance[0], total_apt_attendance[1], 'Appointment Attandance (Count)',\n",
    "             'Appointment Attendance','Count','Attended','Not Attended')"
   ]
  },
  {
   "cell_type": "code",
   "execution_count": 24,
   "metadata": {},
   "outputs": [
    {
     "data": {
      "text/plain": [
       "88208"
      ]
     },
     "execution_count": 24,
     "metadata": {},
     "output_type": "execute_result"
    }
   ],
   "source": [
    "total_apt_attendance[0]"
   ]
  },
  {
   "cell_type": "markdown",
   "metadata": {},
   "source": [
    "Comments:\n",
    "\n",
    "    1. A total of 88208 out of 110527 appointments were attended. \n",
    "    2. This constitute 79.8 % of the entire appointments scheduled."
   ]
  },
  {
   "cell_type": "markdown",
   "metadata": {},
   "source": [
    "   "
   ]
  },
  {
   "cell_type": "markdown",
   "metadata": {},
   "source": [
    "   "
   ]
  },
  {
   "cell_type": "markdown",
   "metadata": {},
   "source": [
    "### 2. What is the Appointment Distribution per Hospital?\n",
    "<a id='q2'></a>\n",
    "<li><a href='#bq1'>Back</a></li>"
   ]
  },
  {
   "cell_type": "markdown",
   "metadata": {},
   "source": [
    "#### 2.1 Visualizing Appointment Distribution per Hospital"
   ]
  },
  {
   "cell_type": "code",
   "execution_count": 25,
   "metadata": {},
   "outputs": [
    {
     "data": {
      "image/png": "[encoded data removed]",
      "text/plain": [
       "<Figure size 1080x504 with 1 Axes>"
      ]
     },
     "metadata": {},
     "output_type": "display_data"
    }
   ],
   "source": [
    "# Compute counts of appointments per hospital\n",
    "hospital_appointments = appointment_data.groupby('neighbourhood').count()['no_show']\n",
    "\n",
    "# set figure size\n",
    "plt.figure(figsize=(15,7))\n",
    "\n",
    "#  plot appointment for each hospital\n",
    "hospital_appointments.plot(kind='bar')\n",
    "# Assign chart title\n",
    "plt.title('Total Appointment per Hospital', font={'size':30})\n",
    "# Assign chart x-axis label\n",
    "plt.xlabel('Hospital', font={'size':20})\n",
    "# Assign chart y-axis label\n",
    "plt.ylabel('Count of Appointments', font={'size':20})\n",
    "# show plot\n",
    "plt.show()"
   ]
  },
  {
   "cell_type": "markdown",
   "metadata": {},
   "source": [
    "Comment:\n",
    "\n",
    "    1. The graph shows Jardim Camburi Hospital has the highest number of scheduled appointments. \n",
    "    2. This signifies that most patients prefer it to other hospitals or the people in that location have more health\n",
    "       conditions than those in other cities."
   ]
  },
  {
   "cell_type": "markdown",
   "metadata": {},
   "source": [
    "#### 2.2. Compute Highest and Lowest Appointments for a Hospital"
   ]
  },
  {
   "cell_type": "code",
   "execution_count": 26,
   "metadata": {
    "scrolled": false
   },
   "outputs": [
    {
     "name": "stdout",
     "output_type": "stream",
     "text": [
      "7717 , 1\n"
     ]
    }
   ],
   "source": [
    "# find highest individual hospital's appointments\n",
    "max =hospital_appointments.max()\n",
    "\n",
    "# find lowest individual hospital's appointments\n",
    "min = hospital_appointments.min()\n",
    "\n",
    "# print hospital with highest and lowest appointments\n",
    "print(max,\",\" ,min)"
   ]
  },
  {
   "cell_type": "markdown",
   "metadata": {},
   "source": [
    "Comment:\n",
    "    \n",
    "    Highest count of appointments for a hospital is  7717  and the Lowest is  1"
   ]
  },
  {
   "cell_type": "code",
   "execution_count": 27,
   "metadata": {},
   "outputs": [],
   "source": [
    "# create dataframe for hospital appointments\n",
    "hospital_appointments_df = pd.DataFrame(hospital_appointments)"
   ]
  },
  {
   "cell_type": "markdown",
   "metadata": {},
   "source": [
    "<a id=\"Q2\"></a>"
   ]
  },
  {
   "cell_type": "code",
   "execution_count": 28,
   "metadata": {},
   "outputs": [
    {
     "data": {
      "text/plain": [
       "Index(['JARDIM CAMBURI'], dtype='object', name='neighbourhood')"
      ]
     },
     "execution_count": 28,
     "metadata": {},
     "output_type": "execute_result"
    }
   ],
   "source": [
    "# find name of hospital with highest appointments\n",
    "highest_hsp_apt = hospital_appointments_df.index[hospital_appointments_df.no_show==max]\n",
    "#view results\n",
    "highest_hsp_apt"
   ]
  },
  {
   "cell_type": "markdown",
   "metadata": {},
   "source": [
    "Comment:\n",
    "\n",
    "    Jardim Camburi hospital has the highest number of appointments which is 7717.\n",
    "<ul>\n",
    "<li><a href=\"#back1\">Back 1, 2</a></li>\n",
    "</ul>"
   ]
  },
  {
   "cell_type": "code",
   "execution_count": 29,
   "metadata": {
    "scrolled": true
   },
   "outputs": [
    {
     "data": {
      "text/plain": [
       "Index(['PARQUE INDUSTRIAL'], dtype='object', name='neighbourhood')"
      ]
     },
     "execution_count": 29,
     "metadata": {},
     "output_type": "execute_result"
    }
   ],
   "source": [
    "# find name of hospital with lowest appointments\n",
    "lowest_hsp_apt = hospital_appointments_df.index[hospital_appointments_df.no_show==min]\n",
    "lowest_hsp_apt"
   ]
  },
  {
   "cell_type": "markdown",
   "metadata": {},
   "source": [
    "Comment:\n",
    "\n",
    "    The Parque Industrial hospital has the lowest number of appointments which is 1."
   ]
  },
  {
   "cell_type": "markdown",
   "metadata": {},
   "source": [
    " "
   ]
  },
  {
   "cell_type": "markdown",
   "metadata": {},
   "source": [
    " "
   ]
  },
  {
   "cell_type": "markdown",
   "metadata": {},
   "source": [
    "### 3. What is the Attended Appointment Distribution by Hospital?\n",
    "<a id='q3'></a>\n",
    "<li><a href='#bq1'>Back</a></li>"
   ]
  },
  {
   "cell_type": "code",
   "execution_count": 30,
   "metadata": {},
   "outputs": [],
   "source": [
    "# crate dataframe of all attended appointments\n",
    "attended_appointment = appointment_data.query('no_show == \"No\"')"
   ]
  },
  {
   "cell_type": "markdown",
   "metadata": {},
   "source": [
    "Comment:\n",
    "       \n",
    "       Filtered Data for Attended Appointment Only"
   ]
  },
  {
   "cell_type": "code",
   "execution_count": 31,
   "metadata": {
    "scrolled": false
   },
   "outputs": [
    {
     "data": {
      "text/html": [
       "<div>\n",
       "<style scoped>\n",
       "    .dataframe tbody tr th:only-of-type {\n",
       "        vertical-align: middle;\n",
       "    }\n",
       "\n",
       "    .dataframe tbody tr th {\n",
       "        vertical-align: top;\n",
       "    }\n",
       "\n",
       "    .dataframe thead th {\n",
       "        text-align: right;\n",
       "    }\n",
       "</style>\n",
       "<table border=\"1\" class=\"dataframe\">\n",
       "  <thead>\n",
       "    <tr style=\"text-align: right;\">\n",
       "      <th></th>\n",
       "      <th>neighbourhood</th>\n",
       "    </tr>\n",
       "  </thead>\n",
       "  <tbody>\n",
       "    <tr>\n",
       "      <th>JARDIM CAMBURI</th>\n",
       "      <td>6252</td>\n",
       "    </tr>\n",
       "    <tr>\n",
       "      <th>MARIA ORTIZ</th>\n",
       "      <td>4586</td>\n",
       "    </tr>\n",
       "    <tr>\n",
       "      <th>RESISTÊNCIA</th>\n",
       "      <td>3525</td>\n",
       "    </tr>\n",
       "    <tr>\n",
       "      <th>JARDIM DA PENHA</th>\n",
       "      <td>3246</td>\n",
       "    </tr>\n",
       "    <tr>\n",
       "      <th>SANTA MARTHA</th>\n",
       "      <td>2635</td>\n",
       "    </tr>\n",
       "  </tbody>\n",
       "</table>\n",
       "</div>"
      ],
      "text/plain": [
       "                 neighbourhood\n",
       "JARDIM CAMBURI            6252\n",
       "MARIA ORTIZ               4586\n",
       "RESISTÊNCIA               3525\n",
       "JARDIM DA PENHA           3246\n",
       "SANTA MARTHA              2635"
      ]
     },
     "execution_count": 31,
     "metadata": {},
     "output_type": "execute_result"
    }
   ],
   "source": [
    "# create data frame of all attended appointments by hospital\n",
    "attended_per_hsp_df = pd.DataFrame(attended_appointment['neighbourhood'].value_counts())\n",
    "# view results\n",
    "attended_per_hsp_df.head()"
   ]
  },
  {
   "cell_type": "markdown",
   "metadata": {},
   "source": [
    "Comment:\n",
    "    \n",
    "    Calculated the number of attended appointments for each hospital and viewed just the top five(5) elements\n"
   ]
  },
  {
   "cell_type": "code",
   "execution_count": 32,
   "metadata": {
    "scrolled": true
   },
   "outputs": [
    {
     "data": {
      "text/html": [
       "<div>\n",
       "<style scoped>\n",
       "    .dataframe tbody tr th:only-of-type {\n",
       "        vertical-align: middle;\n",
       "    }\n",
       "\n",
       "    .dataframe tbody tr th {\n",
       "        vertical-align: top;\n",
       "    }\n",
       "\n",
       "    .dataframe thead th {\n",
       "        text-align: right;\n",
       "    }\n",
       "</style>\n",
       "<table border=\"1\" class=\"dataframe\">\n",
       "  <thead>\n",
       "    <tr style=\"text-align: right;\">\n",
       "      <th></th>\n",
       "      <th>neighbourhood</th>\n",
       "    </tr>\n",
       "  </thead>\n",
       "  <tbody>\n",
       "    <tr>\n",
       "      <th>JARDIM CAMBURI</th>\n",
       "      <td>7717</td>\n",
       "    </tr>\n",
       "    <tr>\n",
       "      <th>MARIA ORTIZ</th>\n",
       "      <td>5805</td>\n",
       "    </tr>\n",
       "    <tr>\n",
       "      <th>RESISTÊNCIA</th>\n",
       "      <td>4431</td>\n",
       "    </tr>\n",
       "    <tr>\n",
       "      <th>JARDIM DA PENHA</th>\n",
       "      <td>3877</td>\n",
       "    </tr>\n",
       "    <tr>\n",
       "      <th>ITARARÉ</th>\n",
       "      <td>3514</td>\n",
       "    </tr>\n",
       "  </tbody>\n",
       "</table>\n",
       "</div>"
      ],
      "text/plain": [
       "                 neighbourhood\n",
       "JARDIM CAMBURI            7717\n",
       "MARIA ORTIZ               5805\n",
       "RESISTÊNCIA               4431\n",
       "JARDIM DA PENHA           3877\n",
       "ITARARÉ                   3514"
      ]
     },
     "execution_count": 32,
     "metadata": {},
     "output_type": "execute_result"
    }
   ],
   "source": [
    "# create data frame for total appointments (attended and not attended) by hospital\n",
    "total_hsp_apt = pd.DataFrame(appointment_data['neighbourhood'].value_counts())\n",
    "# view results\n",
    "total_hsp_apt.head()"
   ]
  },
  {
   "cell_type": "markdown",
   "metadata": {},
   "source": [
    "Comment:\n",
    "    \n",
    "    Calculated the number total number of scheduled appointments for each hospital and viewed just the top five(5) elements"
   ]
  },
  {
   "cell_type": "code",
   "execution_count": 33,
   "metadata": {},
   "outputs": [
    {
     "data": {
      "image/png": "[encoded data removed]",
      "text/plain": [
       "<Figure size 1116x360 with 1 Axes>"
      ]
     },
     "metadata": {},
     "output_type": "display_data"
    }
   ],
   "source": [
    "# Assign variable for attended appointments as aroportion of total appointment for each hospital\n",
    "attended_hsp_prop = attended_per_hsp_df / total_hsp_apt\n",
    "\n",
    "# plot proportions of attended appoints per hospital\n",
    "attended_hsp_prop.plot(kind='bar')\n",
    "# set figure size. NB: used because plot was not resizing with plt.figure command\n",
    "plt.gcf().set_size_inches(15.5,5)\n",
    "# Assign x-axis label\n",
    "plt.xlabel('Hospital', font={'size':17})\n",
    "# Assign y-axis label\n",
    "plt.ylabel('Proportion', font={'size':17})\n",
    "# Assign chart title\n",
    "plt.title('Proportion of Attended Appointment per Hospital', loc='center', font={'size':26})\n",
    "# display chart\n",
    "plt.show()"
   ]
  },
  {
   "cell_type": "markdown",
   "metadata": {},
   "source": [
    "Comment:\n",
    "\n",
    "    The chart shows the rate of attended appointments per hospital. From the graph, Paraque Industrial Hospital has the \n",
    "    highest rate of appointment attendance\n",
    "\n",
    "[knowledge source: figure resizing](https://stackoverflow.com/questions/52274643/figsize-in-matplotlib-is-not-changing-the-figure-size)"
   ]
  },
  {
   "cell_type": "code",
   "execution_count": 34,
   "metadata": {},
   "outputs": [
    {
     "data": {
      "text/plain": [
       "Index(['PARQUE INDUSTRIAL'], dtype='object')"
      ]
     },
     "execution_count": 34,
     "metadata": {},
     "output_type": "execute_result"
    }
   ],
   "source": [
    "# find hospital with highest proportion of attendance\n",
    "attended_hsp_prop.index[attended_hsp_prop['neighbourhood']==attended_hsp_prop.max()[0]]"
   ]
  },
  {
   "cell_type": "markdown",
   "metadata": {},
   "source": [
    "Comment:\n",
    "    \n",
    "    Computed hospital with highest appointment attendance rate. the results confirms the deductions from the bar char above\n",
    "    that, Paraque Industrial Hospital has the  highest rate of appointment attendance."
   ]
  },
  {
   "cell_type": "code",
   "execution_count": 35,
   "metadata": {
    "scrolled": true
   },
   "outputs": [
    {
     "data": {
      "text/plain": [
       "Index(['SANTOS DUMONT'], dtype='object')"
      ]
     },
     "execution_count": 35,
     "metadata": {},
     "output_type": "execute_result"
    }
   ],
   "source": [
    "# find hospital with lowes proportion of attendance\n",
    "attended_hsp_prop.index[attended_hsp_prop['neighbourhood']==attended_hsp_prop.min()[0]]"
   ]
  },
  {
   "cell_type": "markdown",
   "metadata": {},
   "source": [
    "Comment:\n",
    "\n",
    "    Computed hospital with lowest appointment attendance rate. The results reveals Santos Dumont Hospital has the  \n",
    "    lowest  rate of appointment attendance.\n",
    "       "
   ]
  },
  {
   "cell_type": "markdown",
   "metadata": {},
   "source": [
    "  "
   ]
  },
  {
   "cell_type": "markdown",
   "metadata": {},
   "source": [
    "  "
   ]
  },
  {
   "cell_type": "markdown",
   "metadata": {},
   "source": [
    "### 4. What is the Proportion of Attended and Not Attended Appointments for Hospital with Highest Appointments?\n",
    "<a id='q4'></a>\n",
    "<li><a href='#bq1'>Back</a></li>"
   ]
  },
  {
   "cell_type": "markdown",
   "metadata": {},
   "source": [
    "#### 4.1 Find Hospital with Highest Scheduled Appointments"
   ]
  },
  {
   "cell_type": "code",
   "execution_count": 36,
   "metadata": {
    "scrolled": true
   },
   "outputs": [
    {
     "data": {
      "text/html": [
       "<div>\n",
       "<style scoped>\n",
       "    .dataframe tbody tr th:only-of-type {\n",
       "        vertical-align: middle;\n",
       "    }\n",
       "\n",
       "    .dataframe tbody tr th {\n",
       "        vertical-align: top;\n",
       "    }\n",
       "\n",
       "    .dataframe thead th {\n",
       "        text-align: right;\n",
       "    }\n",
       "</style>\n",
       "<table border=\"1\" class=\"dataframe\">\n",
       "  <thead>\n",
       "    <tr style=\"text-align: right;\">\n",
       "      <th></th>\n",
       "      <th>neighbourhood</th>\n",
       "    </tr>\n",
       "  </thead>\n",
       "  <tbody>\n",
       "    <tr>\n",
       "      <th>JARDIM CAMBURI</th>\n",
       "      <td>6252</td>\n",
       "    </tr>\n",
       "  </tbody>\n",
       "</table>\n",
       "</div>"
      ],
      "text/plain": [
       "                neighbourhood\n",
       "JARDIM CAMBURI           6252"
      ]
     },
     "execution_count": 36,
     "metadata": {},
     "output_type": "execute_result"
    }
   ],
   "source": [
    "# find number of attended appointments for hospital with highest appointments i.e. 'JARDIM CAMBURI'\n",
    "attended_per_hsp_df[attended_per_hsp_df.index =='JARDIM CAMBURI']"
   ]
  },
  {
   "cell_type": "markdown",
   "metadata": {},
   "source": [
    "<a id=\"back1\"></a>\n",
    "Comment:\n",
    "\n",
    "    6252 out of the 7717 appointments scheduled for Jardim Camburi hospital was attended. \n",
    "    \n",
    "<ul>\n",
    "<li><a href=\"#Q2\">Refer 1</a></li>\n",
    "</ul>"
   ]
  },
  {
   "cell_type": "markdown",
   "metadata": {},
   "source": [
    "#### 4.2 Visualize Proportinate Attended Appointment of Highest Scheduled Patient"
   ]
  },
  {
   "cell_type": "code",
   "execution_count": 37,
   "metadata": {},
   "outputs": [
    {
     "data": {
      "image/png": "[encoded data removed]",
      "text/plain": [
       "<Figure size 576x396 with 1 Axes>"
      ]
     },
     "metadata": {},
     "output_type": "display_data"
    }
   ],
   "source": [
    "# Plot proportion of appointment \"attended\" and \"not attended\" for hospital with highest appointments\n",
    "plt.pie([6252/max,(max-6252)/max],labels=['Attended','Not Attended'], autopct='%1.1f%%', radius = 1.23)\n",
    "# Assign chart title\n",
    "plt.title('Hospital With Highest Appointment', font={'size':19}, loc = 'center')\n",
    "#display chart\n",
    "plt.show()"
   ]
  },
  {
   "cell_type": "markdown",
   "metadata": {},
   "source": [
    "Comment:\n",
    "\n",
    "    81% of the total scheduled appointments for Jardim Camburi (hospital with highest scheduled appointments) was attended.\n",
    "<ul>\n",
    "<li><a href=\"#Q2\">Refer 2</a></li>\n",
    "</ul>"
   ]
  },
  {
   "cell_type": "markdown",
   "metadata": {},
   "source": [
    " "
   ]
  },
  {
   "cell_type": "markdown",
   "metadata": {},
   "source": [
    " "
   ]
  },
  {
   "cell_type": "markdown",
   "metadata": {},
   "source": [
    "### 5. Which Patient Has the Highest Appointments?\n",
    "<a id='q5'></a>\n",
    "<li><a href='#bq1'>Back</a></li>"
   ]
  },
  {
   "cell_type": "code",
   "execution_count": 38,
   "metadata": {},
   "outputs": [],
   "source": [
    "# Create dataframe of appointment distribution by patients data frame\n",
    "patient_apt = pd.DataFrame(appointment_data.groupby('patient_id').count().no_show)"
   ]
  },
  {
   "cell_type": "code",
   "execution_count": 39,
   "metadata": {
    "scrolled": true
   },
   "outputs": [
    {
     "data": {
      "text/html": [
       "<div>\n",
       "<style scoped>\n",
       "    .dataframe tbody tr th:only-of-type {\n",
       "        vertical-align: middle;\n",
       "    }\n",
       "\n",
       "    .dataframe tbody tr th {\n",
       "        vertical-align: top;\n",
       "    }\n",
       "\n",
       "    .dataframe thead th {\n",
       "        text-align: right;\n",
       "    }\n",
       "</style>\n",
       "<table border=\"1\" class=\"dataframe\">\n",
       "  <thead>\n",
       "    <tr style=\"text-align: right;\">\n",
       "      <th></th>\n",
       "      <th>no_show</th>\n",
       "    </tr>\n",
       "    <tr>\n",
       "      <th>patient_id</th>\n",
       "      <th></th>\n",
       "    </tr>\n",
       "  </thead>\n",
       "  <tbody>\n",
       "    <tr>\n",
       "      <th>39200</th>\n",
       "      <td>1</td>\n",
       "    </tr>\n",
       "    <tr>\n",
       "      <th>43700</th>\n",
       "      <td>1</td>\n",
       "    </tr>\n",
       "  </tbody>\n",
       "</table>\n",
       "</div>"
      ],
      "text/plain": [
       "            no_show\n",
       "patient_id         \n",
       "39200             1\n",
       "43700             1"
      ]
     },
     "execution_count": 39,
     "metadata": {},
     "output_type": "execute_result"
    }
   ],
   "source": [
    "# view appointment distribution by patients data frame\n",
    "patient_apt.head(2)"
   ]
  },
  {
   "cell_type": "markdown",
   "metadata": {},
   "source": [
    "Comment:\n",
    "\n",
    "    Number of scheduled appointments for each patient was computed and first two elements of the dataset viewed"
   ]
  },
  {
   "cell_type": "code",
   "execution_count": 40,
   "metadata": {
    "scrolled": false
   },
   "outputs": [
    {
     "data": {
      "text/plain": [
       "no_show    88\n",
       "dtype: int64"
      ]
     },
     "execution_count": 40,
     "metadata": {},
     "output_type": "execute_result"
    }
   ],
   "source": [
    "# filter for highest appointments for a single patient\n",
    "highest_patient_apt = patient_apt.max()\n",
    "highest_patient_apt"
   ]
  },
  {
   "cell_type": "markdown",
   "metadata": {},
   "source": [
    "<a id=\"patient88\"></a>\n",
    "Comment:\n",
    "\n",
    "    The are 88 scheduled appointments for a patient which is the highest among all the patients\n",
    "<ul>    \n",
    "<li><a href =\"#back2\">Back 3</a></li>\n",
    "</ul>"
   ]
  },
  {
   "cell_type": "code",
   "execution_count": 41,
   "metadata": {
    "scrolled": false
   },
   "outputs": [
    {
     "data": {
      "text/plain": [
       "Int64Index([822145925426128], dtype='int64', name='patient_id')"
      ]
     },
     "execution_count": 41,
     "metadata": {},
     "output_type": "execute_result"
    }
   ],
   "source": [
    "# Filter for patient with highest number of appointments\n",
    "patient_apt.index[patient_apt['no_show']==highest_patient_apt[0]]"
   ]
  },
  {
   "cell_type": "markdown",
   "metadata": {},
   "source": [
    "Comment:\n",
    "\n",
    "    The patient with the highest scheduled appointments of 88 is patient with ID: 822145925426128"
   ]
  },
  {
   "cell_type": "code",
   "execution_count": 42,
   "metadata": {},
   "outputs": [
    {
     "data": {
      "text/plain": [
       "1"
      ]
     },
     "execution_count": 42,
     "metadata": {},
     "output_type": "execute_result"
    }
   ],
   "source": [
    "# create data frame for patient with highest appointment\n",
    "highest_sch_patient = appointment_data.query('patient_id == 822145925426128')\n",
    "\n",
    "#Find number of unique hospitals this patient attended his/her appointments\n",
    "highest_sch_patient['neighbourhood'].nunique()"
   ]
  },
  {
   "cell_type": "markdown",
   "metadata": {},
   "source": [
    "Comment:\n",
    "\n",
    "    Checked for number of hospitals the patient with the highest schedule appointments was assigned. The above shows the\n",
    "    patient had all 88 appointments scheduled to a single hospistal"
   ]
  },
  {
   "cell_type": "code",
   "execution_count": 43,
   "metadata": {
    "scrolled": true
   },
   "outputs": [
    {
     "data": {
      "text/html": [
       "<div>\n",
       "<style scoped>\n",
       "    .dataframe tbody tr th:only-of-type {\n",
       "        vertical-align: middle;\n",
       "    }\n",
       "\n",
       "    .dataframe tbody tr th {\n",
       "        vertical-align: top;\n",
       "    }\n",
       "\n",
       "    .dataframe thead th {\n",
       "        text-align: right;\n",
       "    }\n",
       "</style>\n",
       "<table border=\"1\" class=\"dataframe\">\n",
       "  <thead>\n",
       "    <tr style=\"text-align: right;\">\n",
       "      <th></th>\n",
       "      <th>patient_id</th>\n",
       "      <th>gender</th>\n",
       "      <th>scheduled_day</th>\n",
       "      <th>appointment_day</th>\n",
       "      <th>age</th>\n",
       "      <th>neighbourhood</th>\n",
       "      <th>scholarship</th>\n",
       "      <th>hipertension</th>\n",
       "      <th>diabetes</th>\n",
       "      <th>alcoholism</th>\n",
       "      <th>handcap</th>\n",
       "      <th>sms_received</th>\n",
       "      <th>no_show</th>\n",
       "      <th>demographics</th>\n",
       "    </tr>\n",
       "  </thead>\n",
       "  <tbody>\n",
       "    <tr>\n",
       "      <th>3006</th>\n",
       "      <td>822145925426128</td>\n",
       "      <td>M</td>\n",
       "      <td>2016-04-29</td>\n",
       "      <td>2016-04-29</td>\n",
       "      <td>38</td>\n",
       "      <td>REDENÇÃO</td>\n",
       "      <td>0</td>\n",
       "      <td>0</td>\n",
       "      <td>0</td>\n",
       "      <td>0</td>\n",
       "      <td>0</td>\n",
       "      <td>0</td>\n",
       "      <td>No</td>\n",
       "      <td>adult</td>\n",
       "    </tr>\n",
       "  </tbody>\n",
       "</table>\n",
       "</div>"
      ],
      "text/plain": [
       "           patient_id gender scheduled_day appointment_day  age neighbourhood  \\\n",
       "3006  822145925426128      M    2016-04-29      2016-04-29   38      REDENÇÃO   \n",
       "\n",
       "      scholarship  hipertension  diabetes  alcoholism  handcap  sms_received  \\\n",
       "3006            0             0         0           0        0             0   \n",
       "\n",
       "     no_show demographics  \n",
       "3006      No        adult  "
      ]
     },
     "execution_count": 43,
     "metadata": {},
     "output_type": "execute_result"
    }
   ],
   "source": [
    "# view first row of data frame\n",
    "highest_sch_patient.head(1)"
   ]
  },
  {
   "cell_type": "markdown",
   "metadata": {},
   "source": [
    "Comments:\n",
    "\n",
    "    1. The patient with the highest scheduled appointments is a 38-year old man. with ID: 822145925426128\n",
    "    2. assigned to Rendecao hospital for all the 88 appointments."
   ]
  },
  {
   "cell_type": "code",
   "execution_count": 44,
   "metadata": {
    "scrolled": true
   },
   "outputs": [
    {
     "data": {
      "text/html": [
       "<div>\n",
       "<style scoped>\n",
       "    .dataframe tbody tr th:only-of-type {\n",
       "        vertical-align: middle;\n",
       "    }\n",
       "\n",
       "    .dataframe tbody tr th {\n",
       "        vertical-align: top;\n",
       "    }\n",
       "\n",
       "    .dataframe thead th {\n",
       "        text-align: right;\n",
       "    }\n",
       "</style>\n",
       "<table border=\"1\" class=\"dataframe\">\n",
       "  <thead>\n",
       "    <tr style=\"text-align: right;\">\n",
       "      <th></th>\n",
       "      <th>patient_id</th>\n",
       "      <th>age</th>\n",
       "      <th>scholarship</th>\n",
       "      <th>hipertension</th>\n",
       "      <th>diabetes</th>\n",
       "      <th>alcoholism</th>\n",
       "      <th>handcap</th>\n",
       "      <th>sms_received</th>\n",
       "    </tr>\n",
       "  </thead>\n",
       "  <tbody>\n",
       "    <tr>\n",
       "      <th>count</th>\n",
       "      <td>8.800000e+01</td>\n",
       "      <td>88.0</td>\n",
       "      <td>88.0</td>\n",
       "      <td>88.0</td>\n",
       "      <td>88.0</td>\n",
       "      <td>88.0</td>\n",
       "      <td>88.0</td>\n",
       "      <td>88.000000</td>\n",
       "    </tr>\n",
       "    <tr>\n",
       "      <th>mean</th>\n",
       "      <td>8.221459e+14</td>\n",
       "      <td>38.0</td>\n",
       "      <td>0.0</td>\n",
       "      <td>0.0</td>\n",
       "      <td>0.0</td>\n",
       "      <td>0.0</td>\n",
       "      <td>0.0</td>\n",
       "      <td>0.034091</td>\n",
       "    </tr>\n",
       "    <tr>\n",
       "      <th>std</th>\n",
       "      <td>0.000000e+00</td>\n",
       "      <td>0.0</td>\n",
       "      <td>0.0</td>\n",
       "      <td>0.0</td>\n",
       "      <td>0.0</td>\n",
       "      <td>0.0</td>\n",
       "      <td>0.0</td>\n",
       "      <td>0.182503</td>\n",
       "    </tr>\n",
       "    <tr>\n",
       "      <th>min</th>\n",
       "      <td>8.221459e+14</td>\n",
       "      <td>38.0</td>\n",
       "      <td>0.0</td>\n",
       "      <td>0.0</td>\n",
       "      <td>0.0</td>\n",
       "      <td>0.0</td>\n",
       "      <td>0.0</td>\n",
       "      <td>0.000000</td>\n",
       "    </tr>\n",
       "    <tr>\n",
       "      <th>25%</th>\n",
       "      <td>8.221459e+14</td>\n",
       "      <td>38.0</td>\n",
       "      <td>0.0</td>\n",
       "      <td>0.0</td>\n",
       "      <td>0.0</td>\n",
       "      <td>0.0</td>\n",
       "      <td>0.0</td>\n",
       "      <td>0.000000</td>\n",
       "    </tr>\n",
       "    <tr>\n",
       "      <th>50%</th>\n",
       "      <td>8.221459e+14</td>\n",
       "      <td>38.0</td>\n",
       "      <td>0.0</td>\n",
       "      <td>0.0</td>\n",
       "      <td>0.0</td>\n",
       "      <td>0.0</td>\n",
       "      <td>0.0</td>\n",
       "      <td>0.000000</td>\n",
       "    </tr>\n",
       "    <tr>\n",
       "      <th>75%</th>\n",
       "      <td>8.221459e+14</td>\n",
       "      <td>38.0</td>\n",
       "      <td>0.0</td>\n",
       "      <td>0.0</td>\n",
       "      <td>0.0</td>\n",
       "      <td>0.0</td>\n",
       "      <td>0.0</td>\n",
       "      <td>0.000000</td>\n",
       "    </tr>\n",
       "    <tr>\n",
       "      <th>max</th>\n",
       "      <td>8.221459e+14</td>\n",
       "      <td>38.0</td>\n",
       "      <td>0.0</td>\n",
       "      <td>0.0</td>\n",
       "      <td>0.0</td>\n",
       "      <td>0.0</td>\n",
       "      <td>0.0</td>\n",
       "      <td>1.000000</td>\n",
       "    </tr>\n",
       "  </tbody>\n",
       "</table>\n",
       "</div>"
      ],
      "text/plain": [
       "         patient_id   age  scholarship  hipertension  diabetes  alcoholism  \\\n",
       "count  8.800000e+01  88.0         88.0          88.0      88.0        88.0   \n",
       "mean   8.221459e+14  38.0          0.0           0.0       0.0         0.0   \n",
       "std    0.000000e+00   0.0          0.0           0.0       0.0         0.0   \n",
       "min    8.221459e+14  38.0          0.0           0.0       0.0         0.0   \n",
       "25%    8.221459e+14  38.0          0.0           0.0       0.0         0.0   \n",
       "50%    8.221459e+14  38.0          0.0           0.0       0.0         0.0   \n",
       "75%    8.221459e+14  38.0          0.0           0.0       0.0         0.0   \n",
       "max    8.221459e+14  38.0          0.0           0.0       0.0         0.0   \n",
       "\n",
       "       handcap  sms_received  \n",
       "count     88.0     88.000000  \n",
       "mean       0.0      0.034091  \n",
       "std        0.0      0.182503  \n",
       "min        0.0      0.000000  \n",
       "25%        0.0      0.000000  \n",
       "50%        0.0      0.000000  \n",
       "75%        0.0      0.000000  \n",
       "max        0.0      1.000000  "
      ]
     },
     "execution_count": 44,
     "metadata": {},
     "output_type": "execute_result"
    }
   ],
   "source": [
    "# view statistics of dataset on highest scheduled patient\n",
    "highest_sch_patient.describe()"
   ]
  },
  {
   "cell_type": "markdown",
   "metadata": {},
   "source": [
    "Comment:\n",
    "       \n",
    "    Viewed the statistics on the patient with the highest scheduled appointments. This revealed that he patient had no\n",
    "    health condition as all statistical values for the health condition columns (hipertension, diabetes, alcoholism,\n",
    "    handcap) are zero (0).\n"
   ]
  },
  {
   "cell_type": "markdown",
   "metadata": {},
   "source": [
    "<a id=\"Ref2\"></a>"
   ]
  },
  {
   "cell_type": "code",
   "execution_count": 45,
   "metadata": {
    "scrolled": false
   },
   "outputs": [
    {
     "data": {
      "text/plain": [
       "no_show\n",
       "No     87\n",
       "Yes     1\n",
       "dtype: int64"
      ]
     },
     "execution_count": 45,
     "metadata": {},
     "output_type": "execute_result"
    }
   ],
   "source": [
    "# compute attendance of appointment by highest scheduled patient\n",
    "highest_sch_patient_att = highest_sch_patient.value_counts('no_show')\n",
    "# view reults\n",
    "highest_sch_patient_att"
   ]
  },
  {
   "cell_type": "markdown",
   "metadata": {},
   "source": [
    "<a id=\"back2\"></a>\n",
    "Comment:\n",
    "\n",
    "    The patient with the highest scheduled appointments attended 87 out of the 88.\n",
    "<ul>\n",
    "<li><a href=\"#patient88\">Refer 3</a></li>\n",
    "</ul>"
   ]
  },
  {
   "cell_type": "code",
   "execution_count": 46,
   "metadata": {},
   "outputs": [
    {
     "data": {
      "image/png": "[encoded data removed]",
      "text/plain": [
       "<Figure size 576x396 with 1 Axes>"
      ]
     },
     "metadata": {},
     "output_type": "display_data"
    }
   ],
   "source": [
    "# plot pie chart of attendance distribution of highest scheduled patient\n",
    "plt.pie([highest_sch_patient_att[0], highest_sch_patient_att[1]], labels=['Attended','Not Attended'],\n",
    "        autopct='%1.1f%%', radius=1.23, explode={0,0.15})\n",
    "# Assign chart title\n",
    "plt.title('Appointment Attendance by Highest Scheduled Patient', fontdict={'size':15})\n",
    "# display chart\n",
    "plt.show()"
   ]
  },
  {
   "cell_type": "markdown",
   "metadata": {},
   "source": [
    "Comment:\n",
    "\n",
    "    The 87 attended appointments constitutes 98.9% of the 88 scheduled appointments for the patient.\n",
    "\n",
    "[knowledge source: explode](https://matplotlib.org/3.1.1/api/_as_gen/matplotlib.pyplot.pie.html)"
   ]
  },
  {
   "cell_type": "markdown",
   "metadata": {},
   "source": [
    " "
   ]
  },
  {
   "cell_type": "markdown",
   "metadata": {},
   "source": [
    "### 6. What is the Age Distribution of Patients?\n",
    "<a id='q6'></a>\n",
    "<li><a href='#bq1'>Back</a></li>"
   ]
  },
  {
   "cell_type": "markdown",
   "metadata": {},
   "source": [
    "#### 6.1 Compute Age Statistics"
   ]
  },
  {
   "cell_type": "code",
   "execution_count": 47,
   "metadata": {
    "scrolled": true
   },
   "outputs": [
    {
     "data": {
      "text/plain": [
       "count    110527.000000\n",
       "mean         37.089218\n",
       "std          23.109921\n",
       "min           0.000000\n",
       "25%          18.000000\n",
       "50%          37.000000\n",
       "75%          55.000000\n",
       "max         115.000000\n",
       "Name: age, dtype: float64"
      ]
     },
     "execution_count": 47,
     "metadata": {},
     "output_type": "execute_result"
    }
   ],
   "source": [
    "# Check age statistics\n",
    "appointment_data['age'].describe()"
   ]
  },
  {
   "cell_type": "markdown",
   "metadata": {},
   "source": [
    "<a id=\"agedist\"></a>\n",
    "Comment:\n",
    "\n",
    "    Computed the statistics on age column. This shows that the patients have the oldest patient(s) is 115 years old, the \n",
    "    youngest patient(s) is not up to a year old and the average age for all the patients is 37 years.\n",
    "<ul>\n",
    "<li><a href=\"#back3\">Back 4</a></li>\n",
    "</ul>"
   ]
  },
  {
   "cell_type": "markdown",
   "metadata": {},
   "source": [
    "#### 6.2 Visualize Age Distribution"
   ]
  },
  {
   "cell_type": "code",
   "execution_count": 48,
   "metadata": {
    "scrolled": true
   },
   "outputs": [
    {
     "data": {
      "image/png": "[encoded data removed]",
      "text/plain": [
       "<Figure size 432x360 with 1 Axes>"
      ]
     },
     "metadata": {},
     "output_type": "display_data"
    }
   ],
   "source": [
    "# Set figure size\n",
    "plt.figure(figsize=(6,5))\n",
    "# plot box chart of ages\n",
    "appointment_data['age'].plot(kind='box')\n",
    "# set chart title\n",
    "plt.title('Patients Age Distribution', loc='center', font={'size':19});"
   ]
  },
  {
   "cell_type": "markdown",
   "metadata": {},
   "source": [
    "<a id=\"back3\"></a>\n",
    "Comment:\n",
    "    \n",
    "    This plots confirms the deductions made in 6.1 that;\n",
    "    1. The youngest patient(s) is not up to a year old\n",
    "    2. The oldest patient(s) is/are over a hundred years which in 6.1 was calculated as 115.\n",
    "    \n",
    "    3. The plot also reveals that patients of age 115 are outliers of the age group. Implying there is some appreciable age\n",
    "       gap between them and the next closest age to theirs.\n",
    "<ul>\n",
    "<li><a href=\"#agedist\">Refer 4</a></li>\n",
    "</ul>"
   ]
  },
  {
   "cell_type": "code",
   "execution_count": 49,
   "metadata": {
    "scrolled": false
   },
   "outputs": [
    {
     "data": {
      "image/png": "[encoded data removed]",
      "text/plain": [
       "<Figure size 1080x360 with 1 Axes>"
      ]
     },
     "metadata": {},
     "output_type": "display_data"
    }
   ],
   "source": [
    "# define count of patient unique ages\n",
    "age_count = appointment_data.groupby('age').count()\n",
    "\n",
    "# set figure size\n",
    "plt.figure(figsize=(15,5))\n",
    "# plot a line graph of count of unique ages of patients\n",
    "plt.plot(age_count.iloc[:,0:1])#.plot()\n",
    "# Assign chart title\n",
    "plt.title('Unique Ages: Count of Patients', fontdict={'size':24})\n",
    "# Assign x-axis label\n",
    "plt.xlabel('Unique Age', fontdict={'size':17})\n",
    "# Assign y-xis label\n",
    "plt.ylabel('Number of Patients', fontdict={'size':17})\n",
    "# display chart\n",
    "plt.show()  \n"
   ]
  },
  {
   "cell_type": "markdown",
   "metadata": {},
   "source": [
    "<a id=\"back4\"></a>\n",
    "Comment:\n",
    "\n",
    "    This line gragh of ages indicates that majority of the patients fall within the ages of 0 - 60. The implies the\n",
    "    children, adults and middle agers from the majority of the patients.\n",
    "<ul>\n",
    "<li><a href=\"#demo\">Refer 5</a></li>\n",
    "</ul>"
   ]
  },
  {
   "cell_type": "markdown",
   "metadata": {},
   "source": [
    "#### 6.3 Computing Ages With Highest and Least Number of Patients "
   ]
  },
  {
   "cell_type": "code",
   "execution_count": 50,
   "metadata": {
    "scrolled": true
   },
   "outputs": [
    {
     "data": {
      "text/plain": [
       "103"
      ]
     },
     "execution_count": 50,
     "metadata": {},
     "output_type": "execute_result"
    }
   ],
   "source": [
    "# compute number of unique ages of all patients\n",
    "appointment_data.age.nunique()"
   ]
  },
  {
   "cell_type": "markdown",
   "metadata": {},
   "source": [
    "<a id =\"unique ages\"></a>\n",
    "Comment:\n",
    "\n",
    "    The computation above reveals the patients could be group into 103 unique ages\n",
    "<ul>\n",
    "    <li><a href=\"#back5\">Back 6</a></li>\n",
    "</ul>"
   ]
  },
  {
   "cell_type": "code",
   "execution_count": 51,
   "metadata": {
    "scrolled": true
   },
   "outputs": [
    {
     "data": {
      "text/plain": [
       "(3539, 1)"
      ]
     },
     "execution_count": 51,
     "metadata": {},
     "output_type": "execute_result"
    }
   ],
   "source": [
    "# create data frame for count of all unique ages of patients\n",
    "ages_unique = pd.DataFrame(appointment_data.groupby('age').count()['patient_id'])\n",
    "# view unique age with maximum and minimum number of patients\n",
    "ages_unique.max()[0], ages_unique.min()[0]"
   ]
  },
  {
   "cell_type": "code",
   "execution_count": 52,
   "metadata": {},
   "outputs": [
    {
     "data": {
      "text/plain": [
       "115"
      ]
     },
     "execution_count": 52,
     "metadata": {},
     "output_type": "execute_result"
    }
   ],
   "source": [
    "appointment_data['age'].max()"
   ]
  },
  {
   "cell_type": "markdown",
   "metadata": {},
   "source": [
    "<a id=\"single age\"></a>\n",
    "Comment:\n",
    "\n",
    "    The computation above shows that the greatest group of patients at a particular age are 3539 and 1 patient\n",
    "    whose age no other patient has\n",
    "<ul>\n",
    "<li><a href=\"#back6\">Back 7</a></li>\n",
    "</ul>"
   ]
  },
  {
   "cell_type": "code",
   "execution_count": 53,
   "metadata": {
    "scrolled": true
   },
   "outputs": [
    {
     "data": {
      "text/plain": [
       "Int64Index([0], dtype='int64', name='age')"
      ]
     },
     "execution_count": 53,
     "metadata": {},
     "output_type": "execute_result"
    }
   ],
   "source": [
    "# Age with highest number of patients\n",
    "ages_unique.index[ages_unique['patient_id']==3539]"
   ]
  },
  {
   "cell_type": "markdown",
   "metadata": {},
   "source": [
    "<a id=\"back5\"></a>\n",
    "Comment:\n",
    "\n",
    "    The above reveals that patients less than a year old form the greates group should all the patients be place under\n",
    "    uniques age groups.\n",
    "<ul>\n",
    "<li><a href=\"#unique ages\">Refer 6</a></li>\n",
    "</ul>"
   ]
  },
  {
   "cell_type": "code",
   "execution_count": 54,
   "metadata": {
    "scrolled": false
   },
   "outputs": [
    {
     "data": {
      "text/plain": [
       "Int64Index([99], dtype='int64', name='age')"
      ]
     },
     "execution_count": 54,
     "metadata": {},
     "output_type": "execute_result"
    }
   ],
   "source": [
    "# Age with lowest number of patients\n",
    "ages_unique.index[ages_unique['patient_id']==1]"
   ]
  },
  {
   "cell_type": "markdown",
   "metadata": {},
   "source": [
    "<a id=\"back6\"></a>\n",
    "Comment:\n",
    "\n",
    "    The above reveals that there is only one patient who is 99 years old\n",
    "<ul>\n",
    "<li><a href=\"#single age\">Refer 7</a></li>\n",
    "</ul>"
   ]
  },
  {
   "cell_type": "markdown",
   "metadata": {},
   "source": [
    " "
   ]
  },
  {
   "cell_type": "markdown",
   "metadata": {},
   "source": [
    " "
   ]
  },
  {
   "cell_type": "markdown",
   "metadata": {},
   "source": [
    "### 7. What is the Distribution of Appointment Attendance by Demographics?\n",
    "<a id='q7'></a>\n",
    "<li><a href='#bq1'>Back</a></li>"
   ]
  },
  {
   "cell_type": "markdown",
   "metadata": {},
   "source": [
    "#### 7.1 Compute Total and Attended Appointments, and Proportion of Attended Appointments by Demographics"
   ]
  },
  {
   "cell_type": "code",
   "execution_count": 55,
   "metadata": {
    "scrolled": true
   },
   "outputs": [
    {
     "data": {
      "text/plain": [
       "adult         24479\n",
       "middle age    24416\n",
       "child         21382\n",
       "old           17931\n",
       "Name: demographics, dtype: int64"
      ]
     },
     "execution_count": 55,
     "metadata": {},
     "output_type": "execute_result"
    }
   ],
   "source": [
    "# find all attended appointments by demographics\n",
    "attended_appointment_demo = attended_appointment['demographics'].value_counts()\n",
    "# view data frame\n",
    "attended_appointment_demo"
   ]
  },
  {
   "cell_type": "markdown",
   "metadata": {},
   "source": [
    "Comment:\n",
    "\n",
    "    Computed attended appoints for each demographic group. This revealed, the adults age group attended scheduled \n",
    "    appointments the most."
   ]
  },
  {
   "cell_type": "code",
   "execution_count": 56,
   "metadata": {
    "scrolled": true
   },
   "outputs": [
    {
     "data": {
      "text/plain": [
       "adult         31903\n",
       "middle age    30072\n",
       "child         27379\n",
       "old           21173\n",
       "Name: demographics, dtype: int64"
      ]
     },
     "execution_count": 56,
     "metadata": {},
     "output_type": "execute_result"
    }
   ],
   "source": [
    "# Compute total appointments by demographics\n",
    "total_appointment_demo = appointment_data['demographics'].value_counts()\n",
    "# view data frame\n",
    "total_appointment_demo"
   ]
  },
  {
   "cell_type": "markdown",
   "metadata": {},
   "source": [
    "Comment:\n",
    "\n",
    "    Computed the total scheduled appointment for each demographic group. THis revealed adults were the most scheduled for \n",
    "    appointments."
   ]
  },
  {
   "cell_type": "code",
   "execution_count": 57,
   "metadata": {
    "scrolled": true
   },
   "outputs": [
    {
     "data": {
      "text/plain": [
       "adult         0.767295\n",
       "middle age    0.811918\n",
       "child         0.780964\n",
       "old           0.846880\n",
       "Name: demographics, dtype: float64"
      ]
     },
     "execution_count": 57,
     "metadata": {},
     "output_type": "execute_result"
    }
   ],
   "source": [
    "# Compute attended appointment as a proprtion of total appointments by demographics\n",
    "attended_appointment_demo/total_appointment_demo"
   ]
  },
  {
   "cell_type": "markdown",
   "metadata": {},
   "source": [
    "<a id=\"demo_prop\"></a>\n",
    "<a id=\"demo2\"></a>\n",
    "\n",
    "Comment:\n",
    "\n",
    "    Computed the proportions of attended appointments for each demographic group. This revealed that:\n",
    "        1. patients 60 years and above relatively attended the most of scheduled appointments.\n",
    "        2. patients 18 - 39 years relatively attended scheduled appointments the least\n",
    "      \n",
    "<ul>\n",
    "<li><a href=\"#demo\">Refer 8</a></li>\n",
    "<li><a href=\"#stack\">Back 9</a></li>\n",
    "</ul>"
   ]
  },
  {
   "cell_type": "markdown",
   "metadata": {},
   "source": [
    "#### 7.2 Visualize Total and Attended Appointments, and Proportion of Attended Appointments by Demographics"
   ]
  },
  {
   "cell_type": "code",
   "execution_count": 58,
   "metadata": {
    "scrolled": true
   },
   "outputs": [
    {
     "data": {
      "image/png": "[encoded data removed]",
      "text/plain": [
       "<Figure size 504x360 with 1 Axes>"
      ]
     },
     "metadata": {},
     "output_type": "display_data"
    }
   ],
   "source": [
    "# set figure size\n",
    "plt.figure(figsize=(7,5))\n",
    "#plot stacked bar chart of total and attended appointments per demograhic category\n",
    "plt.bar(total_appointment_demo.index, total_appointment_demo,0.5, label='Total Appointment')\n",
    "plt.bar(attended_appointment_demo.index,attended_appointment_demo, 0.5,label='Attended',bottom=total_appointment_demo)\n",
    "# Assign chart title\n",
    "plt.title('Appointments by Demographics', fontdict={'size':24})\n",
    "# # Assign x-xis label\n",
    "plt.xlabel('Demographics', fontdict={'size':15})\n",
    "# # Assign y-axis label\n",
    "plt.ylabel('Number of Appointments', fontdict={'size':15})\n",
    "# display legend\n",
    "plt.legend()\n",
    "# display chart\n",
    "plt.show()"
   ]
  },
  {
   "cell_type": "markdown",
   "metadata": {},
   "source": [
    "<a id=\"stack\"></a>\n",
    "Comment:\n",
    "\n",
    "    1. The above stacked column chart shows the total appointments (in blue) and attended appointments (in green) for each\n",
    "       demographic group. \n",
    "    \n",
    "    2. The closeness in length of the color segments for each group indicates a higher proportion of atteneded \n",
    "       appointments.\n",
    "\n",
    "    3. The 'old' has the lowest difference between its color segments, thus, it has the highest attended appointments which \n",
    "       confirms the deduction in 7.1 above. \n",
    "<ul>\n",
    "<li><a href=\"#demo2\">Refer 9</a></li>\n",
    "</ul>\n",
    "       \n",
    "\n",
    "\n",
    "[knowledge source: stacked bar chart](https://matplotlib.org/stable/gallery/lines_bars_and_markers/bar_stacked.html)"
   ]
  },
  {
   "cell_type": "code",
   "execution_count": 59,
   "metadata": {},
   "outputs": [
    {
     "data": {
      "image/png": "[encoded data removed]",
      "text/plain": [
       "<Figure size 576x396 with 1 Axes>"
      ]
     },
     "metadata": {},
     "output_type": "display_data"
    }
   ],
   "source": [
    "# plot line chart to show proportionate attended appointments by demographics\n",
    "plt.plot(attended_appointment_demo.index, attended_appointment_demo/total_appointment_demo, '-o')\n",
    "# Assign chart title\n",
    "plt.title('Proportionate Attendance by Demographics', fontdict={'size':22})\n",
    "# Assign x-axis label\n",
    "plt.xlabel('Demographics', fontdict={'size':14})\n",
    "# Assign y-axis label\n",
    "plt.ylabel('Proportion of Appointments Attended', fontdict={'size':14})\n",
    "# display chart\n",
    "plt.show()"
   ]
  },
  {
   "cell_type": "markdown",
   "metadata": {},
   "source": [
    "Comment:\n",
    "    \n",
    "    Line chart showing demographic group and their proportionate attended appointments. It shows the old attended the most \n",
    "    of scheduled appointments and the adults attended the least relative to the other groups.\n",
    "<a id=\"pie\"></a>\n",
    "<ul>\n",
    "<li><a href=\"#back 10\">Back 10</a></li>\n",
    "</ul>"
   ]
  },
  {
   "cell_type": "code",
   "execution_count": 60,
   "metadata": {
    "scrolled": true
   },
   "outputs": [
    {
     "data": {
      "image/png": "[encoded data removed]",
      "text/plain": [
       "<Figure size 576x396 with 1 Axes>"
      ]
     },
     "metadata": {},
     "output_type": "display_data"
    }
   ],
   "source": [
    "# plot a pie chart of proportion of appointments attended for each demographic category\n",
    "plt.pie(attended_appointment_demo/total_appointment_demo, labels=attended_appointment_demo.index, \n",
    "        autopct='%1.1f%%', radius=1.2, explode=[0,0,0,0.05])\n",
    "# Assign chart title\n",
    "plt.title('Honoured Appointment by Demographics', font={'size':20})\n",
    "# Display chart\n",
    "plt.show()"
   ]
  },
  {
   "cell_type": "markdown",
   "metadata": {},
   "source": [
    "<a id=\"back 10\"></a>\n",
    "Comment:\n",
    "    \n",
    "    Pie chart showing attended appoints percentages for the various demographic groups. The old had the greatest percentage\n",
    "    of 26.4% and the adults had the least percentage of 23.9% confirming the deduction made from the line graph above.\n",
    "\n",
    "<ul>\n",
    "<li><a href=\"#pie\">Refer 10</a></li>\n",
    "</ul>"
   ]
  },
  {
   "cell_type": "markdown",
   "metadata": {},
   "source": [
    "      "
   ]
  },
  {
   "cell_type": "markdown",
   "metadata": {},
   "source": [
    " "
   ]
  },
  {
   "cell_type": "markdown",
   "metadata": {},
   "source": [
    "### 8. What is the Distribution of Appointments by Gender?\n",
    "<a id='q8'></a>\n",
    "<li><a href='#bq1'>Back</a></li>"
   ]
  },
  {
   "cell_type": "markdown",
   "metadata": {},
   "source": [
    "#### 8.1 Compute Total Appointments by Gender"
   ]
  },
  {
   "cell_type": "code",
   "execution_count": 61,
   "metadata": {},
   "outputs": [
    {
     "data": {
      "text/plain": [
       "(38687, 71840)"
      ]
     },
     "execution_count": 61,
     "metadata": {},
     "output_type": "execute_result"
    }
   ],
   "source": [
    "# Compute count of males scheduled for appointment\n",
    "males = appointment_data.query('gender ==\"M\"').count()[0]\n",
    "# Compute count of females scheduled for appointment\n",
    "females = appointment_data.query('gender ==\"F\"').count()[0]\n",
    "\n",
    "# view counts of appointments for each gender\n",
    "males, females"
   ]
  },
  {
   "cell_type": "markdown",
   "metadata": {},
   "source": [
    "Comment:\n",
    "\n",
    "    Computed total scheduled appointments for each gender (Male and Female). The numbers shows that most patients scheduled \n",
    "    for appointments were females."
   ]
  },
  {
   "cell_type": "markdown",
   "metadata": {},
   "source": [
    "#### 8.2 Visualize Count of Appointments by Gender"
   ]
  },
  {
   "cell_type": "code",
   "execution_count": 62,
   "metadata": {
    "scrolled": false
   },
   "outputs": [
    {
     "data": {
      "image/png": "[encoded data removed]",
      "text/plain": [
       "<Figure size 1008x360 with 2 Axes>"
      ]
     },
     "metadata": {},
     "output_type": "display_data"
    }
   ],
   "source": [
    "# Plot bar chart showing gender distribution\n",
    "plot_bar_pie(females, males,'Patient Gender Distribution (Count)','Gender','Count','Female','Male')"
   ]
  },
  {
   "cell_type": "markdown",
   "metadata": {},
   "source": [
    "Comment:\n",
    "\n",
    "    Bar chart (left) and pie chart (right) indicating the difference in appointments by gender. The pie chart indicate that \n",
    "    65% of all patients scheduled for appointments were females."
   ]
  },
  {
   "cell_type": "markdown",
   "metadata": {},
   "source": [
    " "
   ]
  },
  {
   "cell_type": "markdown",
   "metadata": {},
   "source": [
    " "
   ]
  },
  {
   "cell_type": "markdown",
   "metadata": {},
   "source": [
    "### 9. Which Gender Attended Appointments the Most?\n",
    "<a id='q9'></a>\n",
    "<li><a href='#bq1'>Back</a></li>"
   ]
  },
  {
   "cell_type": "markdown",
   "metadata": {},
   "source": [
    "#### 9.1 Compute Attended Appointments by Gender"
   ]
  },
  {
   "cell_type": "code",
   "execution_count": 63,
   "metadata": {
    "scrolled": true
   },
   "outputs": [
    {
     "data": {
      "text/plain": [
       "gender\n",
       "F    57246\n",
       "M    30962\n",
       "Name: patient_id, dtype: int64"
      ]
     },
     "execution_count": 63,
     "metadata": {},
     "output_type": "execute_result"
    }
   ],
   "source": [
    "# Compute attended appoints by gender\n",
    "attended_apt_gender = attended_appointment.groupby('gender').count()['patient_id']\n",
    "# view results\n",
    "attended_apt_gender"
   ]
  },
  {
   "cell_type": "markdown",
   "metadata": {},
   "source": [
    "Comment:\n",
    "\n",
    "    Computed attended appoints for each gender"
   ]
  },
  {
   "cell_type": "markdown",
   "metadata": {},
   "source": [
    "#### 9.2 Visualize Proportion of Attended Appointments by Gender"
   ]
  },
  {
   "cell_type": "code",
   "execution_count": 64,
   "metadata": {},
   "outputs": [
    {
     "data": {
      "text/plain": [
       "Text(0.5, 1.0, ' Proportion of Attended Appointment')"
      ]
     },
     "execution_count": 64,
     "metadata": {},
     "output_type": "execute_result"
    },
    {
     "data": {
      "image/png": "[encoded data removed]",
      "text/plain": [
       "<Figure size 576x396 with 1 Axes>"
      ]
     },
     "metadata": {},
     "output_type": "display_data"
    }
   ],
   "source": [
    "# Plot pie chat for proportion of attended aappointment by males and females\n",
    "plt.pie([attended_apt_gender[1]/males,attended_apt_gender[0]/females], labels=['Male','Female'], \n",
    "        autopct='%1.1f%%', radius=1.1);\n",
    "# Assign chart title\n",
    "plt.title(' Proportion of Attended Appointment', fontdict={'size':22})"
   ]
  },
  {
   "cell_type": "markdown",
   "metadata": {},
   "source": [
    "Comment:\n",
    "\n",
    "    The pie chart indicates that relatively males attended more appointments than females. Even though more females were \n",
    "    schedueld, mMales slightly outperform females by 0.2% in attending appointments."
   ]
  },
  {
   "cell_type": "markdown",
   "metadata": {},
   "source": [
    "  "
   ]
  },
  {
   "cell_type": "markdown",
   "metadata": {},
   "source": [
    " "
   ]
  },
  {
   "cell_type": "markdown",
   "metadata": {},
   "source": [
    "### 10. What is the Distribution of Patients by Welfare Enrolment Status?\n",
    "<a id='q10'></a>\n",
    "<li><a href='#bq1'>Back</a></li>"
   ]
  },
  {
   "cell_type": "markdown",
   "metadata": {},
   "source": [
    "#### 10.1 Computing Count of Patients On and Not On the Welfare Programme"
   ]
  },
  {
   "cell_type": "code",
   "execution_count": 65,
   "metadata": {
    "scrolled": true
   },
   "outputs": [
    {
     "data": {
      "text/plain": [
       "0    99666\n",
       "1    10861\n",
       "Name: scholarship, dtype: int64"
      ]
     },
     "execution_count": 65,
     "metadata": {},
     "output_type": "execute_result"
    }
   ],
   "source": [
    "# compute count of patients with and without scholarship. NB: \"0\" means no scholarship and \"1\" means patient has a schoalrship\n",
    "welfare_status = appointment_data['scholarship'].value_counts()\n",
    "# view reults\n",
    "welfare_status"
   ]
  },
  {
   "cell_type": "markdown",
   "metadata": {},
   "source": [
    "Comment:\n",
    "\n",
    "    Computed the number of patients schedueld for appointment who are or not of the welfare programme. This reveals most of \n",
    "    the scheduled patients were not on the welfare programme.\n",
    "<a id=\"scho\"></a>  \n",
    "<ul>    \n",
    "<li><a href=\"#back 11\">Back 11</a></li>\n",
    "</ul>"
   ]
  },
  {
   "cell_type": "markdown",
   "metadata": {},
   "source": [
    "#### 10.2 Visualize Distribution of Patients by Welfare Enrollment Status"
   ]
  },
  {
   "cell_type": "code",
   "execution_count": 66,
   "metadata": {},
   "outputs": [
    {
     "data": {
      "image/png": "[encoded data removed]",
      "text/plain": [
       "<Figure size 576x432 with 1 Axes>"
      ]
     },
     "metadata": {},
     "output_type": "display_data"
    }
   ],
   "source": [
    "# define figure size\n",
    "plt.figure(figsize=(8,6))\n",
    "# plot pie chart of distribution of patietns by scholarships\n",
    "plt.pie(welfare_status, autopct='%0.1f%%', labels=['No Scholarship','Scholarship'], startangle=360, \n",
    "                radius=1.15, explode={0,0.11})\n",
    "# Assign chart title\n",
    "plt.title('Patient Scholarship Status Distribution', fontdict={'size':19})\n",
    "# display chart\n",
    "plt.show()"
   ]
  },
  {
   "cell_type": "markdown",
   "metadata": {},
   "source": [
    "<a id=\"back 11\"></a>\n",
    "Comment:\n",
    "\n",
    "    The baove pie chart indicates that only 9.8% constituting 10861 of patients schedduled for appointment are on the\n",
    "    welfare programme.\n",
    "<ul>    \n",
    "<li><a href=\"#scho\">Refer 11</a></li>\n",
    "</ul>"
   ]
  },
  {
   "cell_type": "markdown",
   "metadata": {},
   "source": [
    "### 11. Does Being on the Welfare Programme Have a Positive Impact on Attended Appointment?\n",
    "<a id='q11'></a>\n",
    "<li><a href='#bq1'>Back</a></li>"
   ]
  },
  {
   "cell_type": "markdown",
   "metadata": {},
   "source": [
    "#### 11.1  Compute Count of Patients by Welfare Status"
   ]
  },
  {
   "cell_type": "code",
   "execution_count": 67,
   "metadata": {},
   "outputs": [
    {
     "data": {
      "text/plain": [
       "(10861, 99666)"
      ]
     },
     "execution_count": 67,
     "metadata": {},
     "output_type": "execute_result"
    }
   ],
   "source": [
    "# Total number of patients with scholarship\n",
    "on_welfare = welfare_status[1]\n",
    "# Total number of patients without scholarship\n",
    "not_on_welfare = welfare_status[0]\n",
    "\n",
    "# view results\n",
    "on_welfare, not_on_welfare"
   ]
  },
  {
   "cell_type": "markdown",
   "metadata": {},
   "source": [
    "Comment:\n",
    "\n",
    "    Assigned definite variables to number of attended patients on and not on the welfare programme"
   ]
  },
  {
   "cell_type": "markdown",
   "metadata": {},
   "source": [
    "#### 11.2 Compute Attended Appointments by Welfare Status"
   ]
  },
  {
   "cell_type": "code",
   "execution_count": 68,
   "metadata": {
    "scrolled": true
   },
   "outputs": [
    {
     "data": {
      "text/plain": [
       "scholarship\n",
       "0    79925\n",
       "1     8283\n",
       "dtype: int64"
      ]
     },
     "execution_count": 68,
     "metadata": {},
     "output_type": "execute_result"
    }
   ],
   "source": [
    "# compute number of patients on and not on the welfare program who Attended their appointments\n",
    "attended_appointment_welfare = attended_appointment.value_counts('scholarship')\n",
    "# view results\n",
    "attended_appointment_welfare"
   ]
  },
  {
   "cell_type": "markdown",
   "metadata": {},
   "source": [
    "Comment:\n",
    "    \n",
    "    Computation above indicates most patients who attended their appointments were on the welfare programme."
   ]
  },
  {
   "cell_type": "markdown",
   "metadata": {},
   "source": [
    "#### 11.3 Compute Not Attended Appointment by Welfare Status "
   ]
  },
  {
   "cell_type": "code",
   "execution_count": 69,
   "metadata": {
    "scrolled": false
   },
   "outputs": [
    {
     "data": {
      "text/plain": [
       "scholarship\n",
       "0    19741\n",
       "1     2578\n",
       "dtype: int64"
      ]
     },
     "execution_count": 69,
     "metadata": {},
     "output_type": "execute_result"
    }
   ],
   "source": [
    "# find number of those who did not attend their appointment\n",
    "not_attended_appointments = appointment_data[appointment_data['no_show']=='Yes']\n",
    "# Group not attended appointments by welfare status\n",
    "not_attended_apt_welfare = not_attended_appointments.value_counts('scholarship')\n",
    "# view reults\n",
    "not_attended_apt_welfare"
   ]
  },
  {
   "cell_type": "markdown",
   "metadata": {},
   "source": [
    "Comment:\n",
    "\n",
    "    Computation above indicates most patients who did attended their appointments were also not on the welfare programme."
   ]
  },
  {
   "cell_type": "markdown",
   "metadata": {},
   "source": [
    "#### 11.4 Compute Attended Appointments as a Proportion of Total Appointments by Welfare Status "
   ]
  },
  {
   "cell_type": "code",
   "execution_count": 70,
   "metadata": {},
   "outputs": [
    {
     "data": {
      "text/plain": [
       "(0.7626369579228433, 0.8019284409929164)"
      ]
     },
     "execution_count": 70,
     "metadata": {},
     "output_type": "execute_result"
    }
   ],
   "source": [
    "# find proportion of non-scholarship holders that attendeded their appointments\n",
    "not_on_welfare_prop = attended_appointment_welfare[0]/not_on_welfare\n",
    "\n",
    "# find proportion of scholarship holders that attendeded their appointments\n",
    "on_welfare_prop = attended_appointment_welfare[1]/on_welfare\n",
    "\n",
    "# view the proportions\n",
    "on_welfare_prop, not_on_welfare_prop"
   ]
  },
  {
   "cell_type": "markdown",
   "metadata": {},
   "source": [
    "Comment:\n",
    "\n",
    "    The proportionate attended appointments by gender computed above indicates that patients not on the welfare programme\n",
    "    relatively attended more scheduled appointments than those on the welfare programe."
   ]
  },
  {
   "cell_type": "markdown",
   "metadata": {},
   "source": [
    "#### 11.5 Visualization  Attended Appointments as Proportion of Total Appointment by Welfare Status"
   ]
  },
  {
   "cell_type": "code",
   "execution_count": 71,
   "metadata": {
    "scrolled": true
   },
   "outputs": [
    {
     "data": {
      "image/png": "[encoded data removed]",
      "text/plain": [
       "<Figure size 1008x360 with 2 Axes>"
      ]
     },
     "metadata": {},
     "output_type": "display_data"
    }
   ],
   "source": [
    "# plot bar chart of welfare status vrs Attended Appointment\n",
    "plot_bar_pie(on_welfare_prop, not_on_welfare_prop, 'Welfare Status and Attended Appointment','Welfare Status','Proportion',\n",
    "            'On Welfare','Not On Welfare')"
   ]
  },
  {
   "cell_type": "markdown",
   "metadata": {},
   "source": [
    "Comment:\n",
    "\n",
    "    The bar (left) and pie (right) charts above displays the proportionate attended appointments by gender. The pie chart \n",
    "    reveals that 51.3% of attended appoints were patients not on the welfare programme."
   ]
  },
  {
   "cell_type": "markdown",
   "metadata": {},
   "source": [
    " "
   ]
  },
  {
   "cell_type": "markdown",
   "metadata": {},
   "source": [
    " "
   ]
  },
  {
   "cell_type": "markdown",
   "metadata": {},
   "source": [
    "### 12. What is the Appointment Distribution by Health Issue / Condition of Patients?\n",
    "<a id='q12'></a>\n",
    "<li><a href='#bq1'>Back</a></li>"
   ]
  },
  {
   "cell_type": "markdown",
   "metadata": {},
   "source": [
    "#### 12.1 Compute Appointment Count by Patients Health Condition(s)"
   ]
  },
  {
   "cell_type": "code",
   "execution_count": 72,
   "metadata": {},
   "outputs": [
    {
     "data": {
      "text/html": [
       "<div>\n",
       "<style scoped>\n",
       "    .dataframe tbody tr th:only-of-type {\n",
       "        vertical-align: middle;\n",
       "    }\n",
       "\n",
       "    .dataframe tbody tr th {\n",
       "        vertical-align: top;\n",
       "    }\n",
       "\n",
       "    .dataframe thead th {\n",
       "        text-align: right;\n",
       "    }\n",
       "</style>\n",
       "<table border=\"1\" class=\"dataframe\">\n",
       "  <thead>\n",
       "    <tr style=\"text-align: right;\">\n",
       "      <th></th>\n",
       "      <th></th>\n",
       "      <th></th>\n",
       "      <th></th>\n",
       "      <th>0</th>\n",
       "    </tr>\n",
       "    <tr>\n",
       "      <th>hipertension</th>\n",
       "      <th>diabetes</th>\n",
       "      <th>alcoholism</th>\n",
       "      <th>handcap</th>\n",
       "      <th></th>\n",
       "    </tr>\n",
       "  </thead>\n",
       "  <tbody>\n",
       "    <tr>\n",
       "      <th>0</th>\n",
       "      <th>0</th>\n",
       "      <th>0</th>\n",
       "      <th>0</th>\n",
       "      <td>84115</td>\n",
       "    </tr>\n",
       "    <tr>\n",
       "      <th rowspan=\"2\" valign=\"top\">1</th>\n",
       "      <th>0</th>\n",
       "      <th>0</th>\n",
       "      <th>0</th>\n",
       "      <td>13663</td>\n",
       "    </tr>\n",
       "    <tr>\n",
       "      <th>1</th>\n",
       "      <th>0</th>\n",
       "      <th>0</th>\n",
       "      <td>5885</td>\n",
       "    </tr>\n",
       "    <tr>\n",
       "      <th rowspan=\"3\" valign=\"top\">0</th>\n",
       "      <th>0</th>\n",
       "      <th>1</th>\n",
       "      <th>0</th>\n",
       "      <td>1922</td>\n",
       "    </tr>\n",
       "    <tr>\n",
       "      <th>1</th>\n",
       "      <th>0</th>\n",
       "      <th>0</th>\n",
       "      <td>1341</td>\n",
       "    </tr>\n",
       "    <tr>\n",
       "      <th>0</th>\n",
       "      <th>0</th>\n",
       "      <th>1</th>\n",
       "      <td>1197</td>\n",
       "    </tr>\n",
       "    <tr>\n",
       "      <th rowspan=\"4\" valign=\"top\">1</th>\n",
       "      <th rowspan=\"2\" valign=\"top\">0</th>\n",
       "      <th>1</th>\n",
       "      <th>0</th>\n",
       "      <td>1042</td>\n",
       "    </tr>\n",
       "    <tr>\n",
       "      <th>0</th>\n",
       "      <th>1</th>\n",
       "      <td>581</td>\n",
       "    </tr>\n",
       "    <tr>\n",
       "      <th rowspan=\"2\" valign=\"top\">1</th>\n",
       "      <th>0</th>\n",
       "      <th>1</th>\n",
       "      <td>345</td>\n",
       "    </tr>\n",
       "    <tr>\n",
       "      <th>1</th>\n",
       "      <th>0</th>\n",
       "      <td>243</td>\n",
       "    </tr>\n",
       "    <tr>\n",
       "      <th rowspan=\"3\" valign=\"top\">0</th>\n",
       "      <th rowspan=\"2\" valign=\"top\">1</th>\n",
       "      <th>1</th>\n",
       "      <th>0</th>\n",
       "      <td>75</td>\n",
       "    </tr>\n",
       "    <tr>\n",
       "      <th>0</th>\n",
       "      <th>1</th>\n",
       "      <td>40</td>\n",
       "    </tr>\n",
       "    <tr>\n",
       "      <th>0</th>\n",
       "      <th>1</th>\n",
       "      <th>1</th>\n",
       "      <td>35</td>\n",
       "    </tr>\n",
       "    <tr>\n",
       "      <th rowspan=\"2\" valign=\"top\">1</th>\n",
       "      <th>0</th>\n",
       "      <th>1</th>\n",
       "      <th>1</th>\n",
       "      <td>29</td>\n",
       "    </tr>\n",
       "    <tr>\n",
       "      <th>1</th>\n",
       "      <th>1</th>\n",
       "      <th>1</th>\n",
       "      <td>13</td>\n",
       "    </tr>\n",
       "    <tr>\n",
       "      <th>0</th>\n",
       "      <th>1</th>\n",
       "      <th>1</th>\n",
       "      <th>1</th>\n",
       "      <td>1</td>\n",
       "    </tr>\n",
       "  </tbody>\n",
       "</table>\n",
       "</div>"
      ],
      "text/plain": [
       "                                              0\n",
       "hipertension diabetes alcoholism handcap       \n",
       "0            0        0          0        84115\n",
       "1            0        0          0        13663\n",
       "             1        0          0         5885\n",
       "0            0        1          0         1922\n",
       "             1        0          0         1341\n",
       "             0        0          1         1197\n",
       "1            0        1          0         1042\n",
       "                      0          1          581\n",
       "             1        0          1          345\n",
       "                      1          0          243\n",
       "0            1        1          0           75\n",
       "                      0          1           40\n",
       "             0        1          1           35\n",
       "1            0        1          1           29\n",
       "             1        1          1           13\n",
       "0            1        1          1            1"
      ]
     },
     "execution_count": 72,
     "metadata": {},
     "output_type": "execute_result"
    }
   ],
   "source": [
    "# compute appointment count by patients health condition(s)\n",
    "patient_hlth_cond = pd.DataFrame(appointment_data[['hipertension','diabetes','alcoholism','handcap']].value_counts())\n",
    "# view results\n",
    "patient_hlth_cond"
   ]
  },
  {
   "cell_type": "markdown",
   "metadata": {},
   "source": [
    "Comment:\n",
    "\n",
    "    Computed the number of patients group by their respective medical condition(s)."
   ]
  },
  {
   "cell_type": "code",
   "execution_count": 73,
   "metadata": {},
   "outputs": [
    {
     "name": "stdout",
     "output_type": "stream",
     "text": [
      "Approximately 76 % of scheduled patients do not have a medical condition\n"
     ]
    }
   ],
   "source": [
    "# compute percentage of (0,0,0,0)\n",
    "no_condition_appt = round((84115/appointment_data.count()[0])*100)\n",
    "\n",
    "print(\"Approximately\",no_condition_appt,\"%\", \n",
    "      \"of scheduled patients do not have a medical condition\")"
   ]
  },
  {
   "cell_type": "markdown",
   "metadata": {},
   "source": [
    "#### 12.2 Visualize Appointment Count by Patients Health Condition(s)"
   ]
  },
  {
   "cell_type": "code",
   "execution_count": 74,
   "metadata": {},
   "outputs": [
    {
     "data": {
      "image/png": "[encoded data removed]",
      "text/plain": [
       "<Figure size 576x396 with 1 Axes>"
      ]
     },
     "metadata": {},
     "output_type": "display_data"
    }
   ],
   "source": [
    "# plot bar chart of patients health conditions\n",
    "patient_hlth_cond.plot(kind='barh')\n",
    "# Assign chart title\n",
    "plt.title('Health Condtion(s) vrs Scheduled Appointments', fontdict={'size':20})\n",
    "# Assign x-axis label\n",
    "plt.xlabel('Number of Patients/Appointments', fontdict={'size':14})\n",
    "# Assign y-axis label\n",
    "plt.ylabel('Hipertension, Diabetes, Alcoholism, Handcap', fontdict={'size':14})\n",
    "# display chart\n",
    "plt.show()"
   ]
  },
  {
   "cell_type": "markdown",
   "metadata": {},
   "source": [
    "Comment: \n",
    "    \n",
    "    The bar chart above shows that most of the patients (84115) scheduled for appointments hand no medical \n",
    "    conditions (0,0,0,0)"
   ]
  },
  {
   "cell_type": "markdown",
   "metadata": {},
   "source": [
    "### 13. How Does Sending SMS Reminders Impact Attendance?"
   ]
  },
  {
   "cell_type": "markdown",
   "metadata": {},
   "source": [
    "#### 13.1 Compute Count of Appointments by SMS_Receipt Status"
   ]
  },
  {
   "cell_type": "code",
   "execution_count": 75,
   "metadata": {},
   "outputs": [
    {
     "data": {
      "text/plain": [
       "0    75045\n",
       "1    35482\n",
       "Name: sms_received, dtype: int64"
      ]
     },
     "execution_count": 75,
     "metadata": {},
     "output_type": "execute_result"
    }
   ],
   "source": [
    "# compute counts of appointments by sms_receipt status\n",
    "sms_reminder = appointment_data['sms_received'].value_counts()\n",
    "# view results\n",
    "sms_reminder"
   ]
  },
  {
   "cell_type": "markdown",
   "metadata": {},
   "source": [
    "Comment: \n",
    "    \n",
    "    The computation above indicates most patients did not receive sms as reminders of their appointment."
   ]
  },
  {
   "cell_type": "markdown",
   "metadata": {},
   "source": [
    "#### 13.2 Compute Number of Attended Appointments With and Without SMS Reminder (Receipt)\n",
    "<a id='q13'></a>\n",
    "<li><a href='#bq1'>Back</a></li>"
   ]
  },
  {
   "cell_type": "code",
   "execution_count": 76,
   "metadata": {},
   "outputs": [
    {
     "data": {
      "text/plain": [
       "(25698, 62510)"
      ]
     },
     "execution_count": 76,
     "metadata": {},
     "output_type": "execute_result"
    }
   ],
   "source": [
    "# compute number of attended appointments by patients who received sms reminders\n",
    "attended_appt_reminded = attended_appointment.query('sms_received == 1').count().iloc[0]\n",
    "\n",
    "# compute number of attended appointments by patients who did not receive sms reminders\n",
    "attended_appt_no_reminder = attended_appointment.query('sms_received == 0').count().iloc[0]\n",
    "\n",
    "# view reults for both computed values above\n",
    "attended_appt_reminded, attended_appt_no_reminder"
   ]
  },
  {
   "cell_type": "markdown",
   "metadata": {},
   "source": [
    "Comment:\n",
    "\n",
    "    The above computation indicates that 25698 patients who received sms attended their appointments as against 62510 of \n",
    "    patients who did not receive sms."
   ]
  },
  {
   "cell_type": "markdown",
   "metadata": {},
   "source": [
    "#### 13.3 Compute Proportions of Appointment Attendance by SMS Reminder (Receipt)"
   ]
  },
  {
   "cell_type": "code",
   "execution_count": 77,
   "metadata": {},
   "outputs": [],
   "source": [
    "# compute attendded appointments by patients with sms reminders - proportion of total appointments by sms reminders\n",
    "attended_reminded_prop = attended_appt_reminded/sms_reminder[1]\n",
    "\n",
    "# compute unattendded appointments by patients with sms reminders - proportion of total appointments by sms reminders\n",
    "attended_no_reminder_prop = attended_appt_no_reminder/sms_reminder[0]"
   ]
  },
  {
   "cell_type": "markdown",
   "metadata": {},
   "source": [
    "#### 13.4 Visualize Proportions of Appointment Attendance by SMS Reminder (Receipt)"
   ]
  },
  {
   "cell_type": "code",
   "execution_count": 78,
   "metadata": {},
   "outputs": [
    {
     "data": {
      "image/png": "[encoded data removed]",
      "text/plain": [
       "<Figure size 1008x360 with 2 Axes>"
      ]
     },
     "metadata": {},
     "output_type": "display_data"
    }
   ],
   "source": [
    "# Plot bar and pie charts for appointment attendance by SMS reminder\n",
    "plot_bar_pie(attended_reminded_prop, attended_no_reminder_prop, 'Attended Appointment by Reminder','',\n",
    "             'Attended Appointments: Proportion','Reminded','Not Reminded')"
   ]
  },
  {
   "cell_type": "markdown",
   "metadata": {},
   "source": [
    "Comment:\n",
    "    \n",
    "    1. The bar chart above indicates the proportionately more appointments were attended by patients who did not \n",
    "       receive sms\n",
    "       \n",
    "    2. The pie chart reveals that 53.5% of attended appointments were by patients who did no receive an sms"
   ]
  },
  {
   "cell_type": "markdown",
   "metadata": {},
   "source": [
    " "
   ]
  },
  {
   "cell_type": "markdown",
   "metadata": {},
   "source": [
    "  "
   ]
  },
  {
   "cell_type": "markdown",
   "metadata": {},
   "source": [
    "### 14. What is the Average Delay in Attending Scheduled Appointment in Days?\n",
    "<a id='q14'></a>\n",
    "<li><a href='#bq1'>Back</a></li>"
   ]
  },
  {
   "cell_type": "code",
   "execution_count": 79,
   "metadata": {},
   "outputs": [
    {
     "data": {
      "text/plain": [
       "8"
      ]
     },
     "execution_count": 79,
     "metadata": {},
     "output_type": "execute_result"
    }
   ],
   "source": [
    "# compute average delay in scheduled and attended appointments\n",
    "np.mean(attended_appointment['appointment_day']-attended_appointment['scheduled_day']).days\n"
   ]
  },
  {
   "cell_type": "markdown",
   "metadata": {},
   "source": [
    "Comment:\n",
    "\n",
    "    The computation above indicates that on the average, it takes 8 days \n",
    "    after the scheduled day for a patient to attend their scheduled appointment."
   ]
  },
  {
   "cell_type": "markdown",
   "metadata": {},
   "source": [
    " "
   ]
  },
  {
   "cell_type": "markdown",
   "metadata": {},
   "source": [
    " "
   ]
  },
  {
   "cell_type": "markdown",
   "metadata": {},
   "source": [
    "### 15. What is the Change in Appointment Attendance from 2015 to 2016? \n",
    "<a id='q15'></a>\n",
    "<li><a href='#bq1'>Back</a></li>"
   ]
  },
  {
   "cell_type": "markdown",
   "metadata": {},
   "source": [
    "#### 15.1 Compute Total Yearly Appointments"
   ]
  },
  {
   "cell_type": "code",
   "execution_count": 80,
   "metadata": {
    "scrolled": true
   },
   "outputs": [
    {
     "data": {
      "text/plain": [
       "2016    110465\n",
       "2015        62\n",
       "Name: scheduled_day, dtype: int64"
      ]
     },
     "execution_count": 80,
     "metadata": {},
     "output_type": "execute_result"
    }
   ],
   "source": [
    "# find total appointment by year\n",
    "yearly_appointment = appointment_data['scheduled_day'].dt.year.value_counts()\n",
    "yearly_appointment"
   ]
  },
  {
   "cell_type": "markdown",
   "metadata": {},
   "source": [
    "#### 15.2 Visualize Total Yearly Appointments"
   ]
  },
  {
   "cell_type": "code",
   "execution_count": 81,
   "metadata": {
    "scrolled": false
   },
   "outputs": [
    {
     "data": {
      "image/png": "[encoded data removed]",
      "text/plain": [
       "<Figure size 432x360 with 1 Axes>"
      ]
     },
     "metadata": {},
     "output_type": "display_data"
    }
   ],
   "source": [
    "# set figure size\n",
    "plt.figure(figsize=(6,5))\n",
    "#plot stacked bar chart of total and attended appointments per demograhic category\n",
    "plt.pie([yearly_appointment.iloc[1],yearly_appointment.iloc[0]], labels=['Year 2015','Year 2016'], autopct='%1.1f%%', \n",
    "                    explode={0,0.1}, radius=1, startangle=180)\n",
    "# Assign chart title\n",
    "plt.title('Total Yearly Appointments', fontdict={'size':22}, loc='center')\n",
    "# display legends\n",
    "plt.legend()\n",
    "#display chart\n",
    "plt.show()"
   ]
  },
  {
   "cell_type": "markdown",
   "metadata": {},
   "source": [
    "Comment:\n",
    "    \n",
    "    The pie chart reveals that a neglible portion (0.1%) constituting 62 out 110527 scheduled appointments were from the \n",
    "    year 2015."
   ]
  },
  {
   "cell_type": "markdown",
   "metadata": {},
   "source": [
    "#### 15.3 Compute Yearly Attended and Not Attended Appointments"
   ]
  },
  {
   "cell_type": "code",
   "execution_count": 82,
   "metadata": {
    "scrolled": true
   },
   "outputs": [
    {
     "data": {
      "text/plain": [
       "No     88165\n",
       "Yes    22300\n",
       "Name: no_show, dtype: int64"
      ]
     },
     "execution_count": 82,
     "metadata": {},
     "output_type": "execute_result"
    }
   ],
   "source": [
    "# find number of attended and unattended appointments in 2016\n",
    "appointment_data_2016 = appointment_data.query('scheduled_day.dt.year == 2016')\n",
    "# count by attendance status\n",
    "appointment_data_16 = appointment_data_2016['no_show'].value_counts()\n",
    "# view results\n",
    "appointment_data_16"
   ]
  },
  {
   "cell_type": "markdown",
   "metadata": {},
   "source": [
    "Comment:\n",
    "\n",
    "    Computed appointments attended and not attended appointments in the year 2016. This revealed that a greater number \n",
    "    (88165 out of 110465) of appointments were attended."
   ]
  },
  {
   "cell_type": "code",
   "execution_count": 83,
   "metadata": {
    "scrolled": true
   },
   "outputs": [
    {
     "data": {
      "text/plain": [
       "No     43\n",
       "Yes    19\n",
       "Name: no_show, dtype: int64"
      ]
     },
     "execution_count": 83,
     "metadata": {},
     "output_type": "execute_result"
    }
   ],
   "source": [
    "# find number of attended and unattended appointments in 2015\n",
    "appointment_data_2015 = appointment_data.query('scheduled_day.dt.year == 2015')\n",
    "# count by attendance status\n",
    "appointment_data_15 = appointment_data_2015['no_show'].value_counts()\n",
    "# view reults\n",
    "appointment_data_15"
   ]
  },
  {
   "cell_type": "markdown",
   "metadata": {},
   "source": [
    "Comment:\n",
    "\n",
    "    Computed appointments attended and not attended appointments in the year 2015. This revealed that a greater number \n",
    "    (43 out of 62) of appointments were not attended."
   ]
  },
  {
   "cell_type": "markdown",
   "metadata": {},
   "source": [
    "#### 15.4 Compute Attended Appointments as Proportions for Each Year"
   ]
  },
  {
   "cell_type": "code",
   "execution_count": 84,
   "metadata": {
    "scrolled": true
   },
   "outputs": [
    {
     "data": {
      "text/plain": [
       "(0.6935483870967742, 0.798126103290635)"
      ]
     },
     "execution_count": 84,
     "metadata": {},
     "output_type": "execute_result"
    }
   ],
   "source": [
    "# find proportion for attended appointments in 2015\n",
    "attended_prop_2015 = appointment_data_15[0] / yearly_appointment.iloc[1]\n",
    " \n",
    "# find proportion for attended appointments in 2016\n",
    "attended_prop_2016 = appointment_data_16[0] / yearly_appointment.iloc[0]\n",
    "\n",
    "# view computed values\n",
    "attended_prop_2015, attended_prop_2016"
   ]
  },
  {
   "cell_type": "code",
   "execution_count": 85,
   "metadata": {},
   "outputs": [
    {
     "data": {
      "text/plain": [
       "10.5"
      ]
     },
     "execution_count": 85,
     "metadata": {},
     "output_type": "execute_result"
    }
   ],
   "source": [
    "# compute percentage difference in proportion of attended appointmetns per year\n",
    "round((attended_prop_2016 - attended_prop_2015)*100,1)"
   ]
  },
  {
   "cell_type": "markdown",
   "metadata": {},
   "source": [
    "Comment:\n",
    "\n",
    "    Computed attended appointments as a proportion of scheduled appointments for each year.\n",
    "    This revealed that, relatively more patients (0.798) in 2016 attended their scheduled appointments. They out performed\n",
    "    the 2015 attended appointments by aproximately 10.5%"
   ]
  },
  {
   "cell_type": "markdown",
   "metadata": {},
   "source": [
    "#### 15.5 Visualize Attended Appointments as Proportions for Each Year"
   ]
  },
  {
   "cell_type": "code",
   "execution_count": 86,
   "metadata": {},
   "outputs": [
    {
     "data": {
      "image/png": "[encoded data removed]",
      "text/plain": [
       "<Figure size 1008x360 with 2 Axes>"
      ]
     },
     "metadata": {},
     "output_type": "display_data"
    }
   ],
   "source": [
    "# plot bar and pie chart of Attended Appointments Each Year as Proportions\n",
    "plot_bar_pie(attended_prop_2015, attended_prop_2016, 'Yearly Attended Appointments','Year', \n",
    "             'Proportion of Honoured Attendance','2015', '2016')"
   ]
  },
  {
   "cell_type": "markdown",
   "metadata": {},
   "source": [
    "Comment:\n",
    "\n",
    "    1.The charts above displays that more appointments in 2016 were attended relative to 2015.\n",
    "    2.The pie chart specifically shows that 53.5% of all attended appointments were from 2016."
   ]
  },
  {
   "cell_type": "code",
   "execution_count": 87,
   "metadata": {},
   "outputs": [
    {
     "data": {
      "text/plain": [
       "<BarContainer object of 2 artists>"
      ]
     },
     "execution_count": 87,
     "metadata": {},
     "output_type": "execute_result"
    },
    {
     "data": {
      "image/png": "[encoded data removed]",
      "text/plain": [
       "<Figure size 576x396 with 1 Axes>"
      ]
     },
     "metadata": {},
     "output_type": "display_data"
    }
   ],
   "source": [
    "plt.bar(['2015', '2016'],[attended_prop_2015, attended_prop_2016])"
   ]
  },
  {
   "cell_type": "markdown",
   "metadata": {},
   "source": [
    " "
   ]
  },
  {
   "cell_type": "markdown",
   "metadata": {},
   "source": [
    " "
   ]
  },
  {
   "cell_type": "markdown",
   "metadata": {},
   "source": [
    "<a id='conclusions'></a>\n",
    "## Conclusions\n",
    "<li><a href=\"#bq1\">Click Here to Questions</a></li>\n",
    "\n",
    "    1. In total, approximately 80% of scheduled appointments were attended.\n",
    "\n",
    "    2. Jardim Camburi hospital scheduled more patients than any other for appointments but in terms of attended \n",
    "       appointments was not in the lead. It had 81% attendance rate. (Refer to Questions 2,3 and 4).\n",
    "\n",
    "    3. Patient with ID: 822145925426128 was scheduled the highest (88 times) among all patients to Rendecao hospital with \n",
    "       a 98% attendance rate. (Refer to Question 5).\n",
    "\n",
    "    4. a) Over 80% of the patient population are under 60 years. (Refer to Demographics Definitions in Data Wrangling and \n",
    "       Question 7).\n",
    "\n",
    "       b. These formed approximately 70% of the total attended appointments. This could imply the general population of \n",
    "       Brazil is youthful. However proportionately, old people attend scheduled appointments more than all the other \n",
    "       demographic groups i.e. child, youth, adult. (Refer to Questions 6 and 7).\n",
    "\n",
    "    5. The patient population is mostly females (65% of total patients). However the proportionate attendance rate for \n",
    "       males slightly exceeds that of females by 0.2%. (Refer to Questions 8 and 9).\n",
    "\n",
    "    6. Over 90% of patients are not on welfare but attended appointments the most than those on welfare. Approximately 51% \n",
    "       of attended appointments were by those not on welfare. This indicates being on welfare is not a motivation for a \n",
    "       patient attending his or her appointment (Refer to Questions 10 and 11).\n",
    "\n",
    "    7. Approximately 76 % of patients scheduled for appointments do not have a medical condition. This is an indicator that \n",
    "       the general Brazilian popular is averagely healthy. (Refer to Question 12).\n",
    "\n",
    "    8. Sending sms reminders does not necessarily increase the attendance rate as more patients who did not receive sms \n",
    "       reminders attended their appointments than those who did.  (Refer to Question 13).\n",
    "\n",
    "    9. Averagely, it should be expected for a patient to attend his/her appointment with 8 days from the schedule day. \n",
    "       (Refer to Question 14).\n",
    "        \n",
    " \n",
    "### Limitations\n",
    "\n",
    "    1. These deductions is not exhaustive as other parameter such as patient proximity to hospital etc. was not considered \n",
    "       in this analysis. I believe if this parameter is considered, the deductions would change appreciably.\n",
    "\n",
    "    2. Also, the sample data from 2015 was relatively small thus creating the potential of misrepresentation of the yearly \n",
    "       appointment and attended appointment distribution.\n",
    "\n",
    "    3. For point 8, the deduction is not exhaustive. It would be more accurate by comparing this the analysis from this \n",
    "       data with that from data which was gathered before the introduction of sms reminders.\n",
    "\n"
   ]
  },
  {
   "cell_type": "code",
   "execution_count": null,
   "metadata": {},
   "outputs": [],
   "source": []
  }
 ],
 "metadata": {
  "kernelspec": {
   "display_name": "Python 3 (ipykernel)",
   "language": "python",
   "name": "python3"
  },
  "language_info": {
   "codemirror_mode": {
    "name": "ipython",
    "version": 3
   },
   "file_extension": ".py",
   "mimetype": "text/x-python",
   "name": "python",
   "nbconvert_exporter": "python",
   "pygments_lexer": "ipython3",
   "version": "3.9.12"
  }
 },
 "nbformat": 4,
 "nbformat_minor": 2
}
